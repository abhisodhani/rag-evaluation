{
 "cells": [
  {
   "cell_type": "markdown",
   "metadata": {},
   "source": [
    "# Lab-03: Tweaking chunking strategy of Ragas and reviewing results"
   ]
  },
  {
   "cell_type": "markdown",
   "metadata": {},
   "source": [
    "### Context\n",
    "\n",
    "In Lab-01 and Lab-02 you created an Amazon Bedrock Knowledge Base to power your RAG applicaiton. Then, you evaluated it using the RAGAS framework against different RAGAS metics and powering your RAG with different Large Language Models (llms).\n",
    "\n",
    "In this notebook, we will work on the Amazon Bedrock Knowledge Base to observe how to improve the RAGAS metrics by changing the document chunking strategies.\n",
    "\n",
    "### Chunking Introduction\n",
    "\n",
    "Chunking is a critical step in building an effective knowledge base for RAG applications. The choice of chunking strategy can significantly improve or lower your RAG implementation's performance. Here's why:\n",
    "\n",
    "1. Retrieval accuracy: Different chunking methods can lead to varying levels of precision in retrieving relevant information. An optimal chunking strategy ensures that the most pertinent information is captured in each chunk, improving the chances of retrieving the right context for a given query.\n",
    "\n",
    "2. Context quality: The size and content of chunks directly affect the quality of context provided to the language model. Too large chunks may include irrelevant information, while too small chunks might miss important context. Finding the right balance is crucial for generating accurate and relevant responses.\n",
    "\n",
    "3. Computational efficiency: Chunking strategies impact the number and size of vectors in your knowledge base. This, in turn, affects the computational resources required for embedding generation and similarity search. An efficient chunking strategy can lead to faster retrieval times and lower resource consumption.\n",
    "\n",
    "4. Adaptability to content: Different types of documents (e.g., technical reports, narratives, or structured data) may benefit from different chunking approaches. The ability to tailor your chunking strategy to your specific content can significantly enhance your RAG system's performance.\n",
    "\n",
    "<!-- ![retrieveapi.png](./images/retrieveAPI.png) -->\n",
    "<img src=\"./assets/retrieveAPI.png\" width=50% height=20% />\n",
    "\n",
    "In the RAG workflow, chunking impacts the \"Retrieve API\" stage, as shown in the provided image. The process involves:\n",
    "\n",
    "1. Generating query embeddings from the user input.\n",
    "2. Retrieving similar documents (chunks) from the knowledge base.\n",
    "3. Using these retrieved chunks as context for prompt augmentation.\n",
    "\n",
    "It's important to note that there is no one-size-fits-all solution for chunking. The optimal strategy often depends on the nature of your documents, the specifics of your use case, and the characteristics of your target queries. This is why testing different chunking strategies and evaluating their impact on your RAG system's performance is crucial.\n",
    "\n",
    "### Amazon Bedrock Knowledge Bases Chunking Strategies\n",
    "\n",
    "Amazon Bedrock offers several chunking strategies to optimize your knowledge base for different types of content and use cases:\n",
    "\n",
    "1. Standard Chunking:\n",
    "   - Fixed-size chunking: Allows you to specify the number of tokens per chunk and an overlap percentage.\n",
    "   - Default chunking: Splits content into approximately 300-token chunks, preserving sentence boundaries.\n",
    "   - Pros:\n",
    "       - Simple and straightforward to implement\n",
    "       - Works well for uniform, well-structured documents\n",
    "       - Overlap feature helps maintain context across chunk boundaries\n",
    "   - Cons:\n",
    "       - May split semantic units or important context\n",
    "       - Less effective for documents with varying content density or structure\n",
    "       - Fixed-size approach might not adapt well to diverse document types\n",
    "\n",
    "3. Hierarchical Chunking:\n",
    "   - Creates a two-level structure with parent and child chunks.\n",
    "   - You can set maximum token sizes for both parent and child chunks, as well as overlap tokens.\n",
    "   - Balances precision (small child chunks) with comprehensive context (larger parent chunks).\n",
    "   - Pros:\n",
    "       - Preserves both local and broader context\n",
    "       - Allows for more nuanced retrieval (e.g., returning child chunks with parent context)\n",
    "       - Can improve performance for documents with clear hierarchical structure\n",
    "   - Cons:\n",
    "       - More complex to set up and fine-tune\n",
    "       - May introduce overhead in storage and retrieval processes\n",
    "       - Might not be beneficial for flat or unstructured documents\n",
    "\n",
    "4. Semantic Chunking:\n",
    "   - Uses natural language processing to create meaningful chunks based on semantic content.\n",
    "   - Configurable parameters include maximum tokens, buffer size, and breakpoint percentile threshold.\n",
    "   - Aims to improve retrieval accuracy by focusing on semantic rather than just syntactic structure.\n",
    "   - Pros:\n",
    "       - Creates more meaningful and coherent chunks based on content\n",
    "       - Can significantly improve retrieval relevance for complex documents\n",
    "       - Adapts to varying content density within documents\n",
    "   - Cons:\n",
    "       - More computationally intensive during ingestion\n",
    "       - May require more fine-tuning to achieve optimal results\n",
    "       - Performance can vary depending on the effectiveness of the underlying NLP model\n",
    "\n",
    "5. Advanced Parsing Options:\n",
    "   - Utilizes foundation models (like Claude 3 Sonnet or Claude 3 Haiku) for parsing complex data such as tables and charts.\n",
    "   - Allows customization of parsing prompts for specific use cases.\n",
    "   - Pros:\n",
    "       - Excellent for handling complex, structured data like tables and charts\n",
    "       - Allows for customization to specific document types or domains\n",
    "       - Can significantly improve accuracy for specialized content\n",
    "   - Cons:\n",
    "       - Requires more setup and potentially ongoing maintenance\n",
    "       - May be overkill for simpler document types\n",
    "       - Dependent on the capabilities of the chosen foundation model\n",
    "\n",
    "6. Custom Transformation:\n",
    "   - Enables the use of a Lambda function to implement custom chunking logic.\n",
    "   - Useful for specific chunking requirements not natively supported by Amazon Bedrock.\n",
    "   - Pros:\n",
    "       - Offers maximum flexibility for unique document structures or use cases\n",
    "       - Allows integration of domain-specific knowledge into the chunking process\n",
    "       - Can be optimized for specific performance requirements\n",
    "   - Cons:\n",
    "       - Requires custom development and maintenance\n",
    "       - May introduce complexity and potential points of failure\n",
    "       - Can be challenging to scale or adapt to changing requirements\n",
    "\n",
    "It's crucial to emphasize that the effectiveness of these chunking strategies can vary significantly depending on your specific use case, document types, and query patterns. Testing different strategies and carefully evaluating their impact on your RAGAS metrics is essential for optimizing your RAG implementation. This notebook will guide you through this process, helping you understand how different chunking approaches affect the performance of your knowledge base for the Octank financial reports dataset.\n",
    "\n",
    "\n",
    "### Notebook Walkthrough\n",
    "\n",
    "In this notebook we will create different Knowledge Bases with different chunking strategies based on the same dataset of previous labs.\n",
    "Then, we will test each Knowledge Base created with RAGAS using `anthropic.claude-3-haiku-20240307-v1:0` as evaluator.\n",
    "\n",
    "In the end, we will be able to observe that different chunking strategies impact the RAGAS metrics.\n",
    "\n",
    "### Python 3.10\n",
    "\n",
    "⚠  For this lab we need to run the notebook based on a Python 3.10 runtime. ⚠"
   ]
  },
  {
   "cell_type": "markdown",
   "metadata": {},
   "source": [
    "## Creating Knowledge Bases with Different Chunking Strategies\n",
    "\n",
    "In this section, we will create two different knowledge bases and reuse one of the knowledge bases created in Lab 1. Each knowledge base will use a different chunking strategy to process the same dataset and we will compare their performance using Ragas. \n",
    "\n",
    "\n",
    "### Steps\n",
    "\n",
    "1. Create Knowledge Base 1: Hierarchical Transformation\n",
    "   - Set maximum token size of parent to 1024 (max size of cohere embedding model)\n",
    "   - Set maximum token size of child to 300\n",
    "   - Set overlap tokens to 60\n",
    "\n",
    "2. Create Knowledge Base 2: Semantic Transformation\n",
    "   - Set breakpoint percentile threshold to 55\n",
    "   - Set buffer size to 1\n",
    "   - Set maximum tokens to 300\n",
    "\n",
    "3. Reuse Knowledge Base from Lab 1: Fixed Chunking\n",
    "   - Rerun the knowledge base creation function to reuse the already created knowledge base\n",
    "\n",
    "### Important Notes\n",
    "\n",
    "- Ensure you're using the same embedding model (Cohere) for all three knowledge bases to maintain consistency in our comparison.\n",
    "- The Knowledge Base IDs will be crucial for our subsequent notebook operations, so make sure to record them accurately."
   ]
  },
  {
   "cell_type": "markdown",
   "metadata": {},
   "source": [
    "### First lets double check our data is uploaded to s3"
   ]
  },
  {
   "cell_type": "code",
   "execution_count": 1,
   "metadata": {},
   "outputs": [
    {
     "name": "stdout",
     "output_type": "stream",
     "text": [
      "Upload Successful!!\n",
      "\n",
      "octank_financial_10K.pdf was successfully uploaded to sagemaker-us-east-1-058264176820/octank_financial_10K.pdf\n"
     ]
    }
   ],
   "source": [
    "import logging\n",
    "logging.getLogger(\"sagemaker.config\").setLevel(logging.WARNING)\n",
    "import sagemaker\n",
    "import boto3\n",
    "import pprint\n",
    "from botocore.client import Config\n",
    "\n",
    "pp = pprint.PrettyPrinter(indent=2)\n",
    "# Specify your bucket to be the default sagemaker bucket\n",
    "sess = sagemaker.Session()\n",
    "bucket = sess.default_bucket() #sagemaker-abcdef\n",
    "filename = 'octank_financial_10K.pdf'\n",
    "\n",
    "# Create an S3 client\n",
    "s3 = boto3.client('s3')\n",
    "\n",
    "# Upload the file\n",
    "s3.upload_file(filename, bucket, filename)\n",
    "print(\"Upload Successful!!\\n\")\n",
    "print(f\"{filename} was successfully uploaded to {bucket}/{filename}\")"
   ]
  },
  {
   "cell_type": "markdown",
   "metadata": {},
   "source": [
    "### Create hierarchical and semantic knowledge bases"
   ]
  },
  {
   "cell_type": "code",
   "execution_count": 2,
   "metadata": {},
   "outputs": [
    {
     "name": "stdout",
     "output_type": "stream",
     "text": [
      "bedrock kb execution role arn:aws:iam::058264176820:role/amazon-sagemaker-base-executionrole\n",
      "bedrock kb execution role arn:aws:iam::058264176820:role/amazon-sagemaker-base-executionrole\n",
      "bedrock kb execution role arn:aws:iam::058264176820:role/amazon-sagemaker-base-executionrole\n",
      "Creating index: cohere-embed-semantic\n",
      "\n",
      "Creating index: cohere-embed-hierarchical\n",
      "\n",
      "Index creation for index: cohere-embed-semantic complete!!..\n",
      "\n",
      "Creating knowledge base...\n",
      "\n",
      "Index creation for index: cohere-embed-hierarchical complete!!\n",
      "\n",
      "Creating knowledge base...\n",
      "\n",
      "Knowledge base: semantic-cohere-embed-english-v3-knowledge-base created!!\n",
      "\n",
      "Knowledge base: hierarchical-cohere-embed-english-v3-knowledge-base created!!\n",
      "\n",
      "'Cohere Embed Hierarchical Knowledge Base Id: DD7ODEUKIA'\n",
      "'Cohere Embed Semantic Knowledge Base Id: TRMH6KNFIG'\n",
      "'Cohere Embed Fixed Knowledge Base Id: O079GGLKHW'\n"
     ]
    }
   ],
   "source": [
    "import json\n",
    "import boto3\n",
    "from utility import interactive_sleep, create_knowledge_base, create_ds\n",
    "from concurrent.futures import ThreadPoolExecutor\n",
    "\n",
    "boto3_session = boto3.session.Session()\n",
    "region_name = boto3_session.region_name\n",
    "\n",
    "## create new hierarchical knowledge base\n",
    "def create_cohere_embed_hierarchical_knowledge_base():\n",
    "    return create_knowledge_base(\n",
    "        index_name=\"cohere-embed-hierarchical\",\n",
    "        collection_name=\"cohere-embed-english-v3\",\n",
    "        knowledge_base_name=\"hierarchical-cohere-embed-english-v3\",\n",
    "        vector_store_name=\"cohere-embed-english-v3\",\n",
    "        access_policy_name=\"cohere-embed-access-policy\",\n",
    "        embedding_model_arn=f\"arn:aws:bedrock:{region_name}::foundation-model/cohere.embed-english-v3\"\n",
    "    )\n",
    "\n",
    "## create new semantic knowledge base\n",
    "def create_cohere_embed_semantic_knowledge_base():\n",
    "    return create_knowledge_base(\n",
    "        index_name=\"cohere-embed-semantic\",\n",
    "        collection_name=\"cohere-embed-english-v3\",\n",
    "        knowledge_base_name=\"semantic-cohere-embed-english-v3\",\n",
    "        vector_store_name=\"cohere-embed-english-v3\",\n",
    "        access_policy_name=\"cohere-embed-access-policy\",\n",
    "        embedding_model_arn=f\"arn:aws:bedrock:{region_name}::foundation-model/cohere.embed-english-v3\"\n",
    "    )\n",
    "\n",
    "## reuse existing fixed embedding knowledge base. \n",
    "## Don't worry, this will not create a new one and will just return the old knowledge base created in Lab 1\n",
    "def create_cohere_embed_fixed_knowledge_base():\n",
    "    return create_knowledge_base(\n",
    "        index_name=\"cohere-embed-english-v3\",\n",
    "        collection_name=\"cohere-embed-english-v3\",\n",
    "        knowledge_base_name=\"cohere-embed-english-v3\",\n",
    "        vector_store_name=\"cohere-embed-english-v3\",\n",
    "        access_policy_name=\"cohere-embed-access-policy\",\n",
    "        embedding_model_arn=f\"arn:aws:bedrock:{region_name}::foundation-model/cohere.embed-english-v3\"\n",
    "    )\n",
    "\n",
    "with ThreadPoolExecutor(max_workers=3) as executor:\n",
    "    cohere_embed_hierarchical_future = executor.submit(create_cohere_embed_hierarchical_knowledge_base)\n",
    "    cohere_embed_semantic_future = executor.submit(create_cohere_embed_semantic_knowledge_base)\n",
    "    cohere_embed_fixed_future = executor.submit(create_cohere_embed_fixed_knowledge_base)\n",
    "    \n",
    "    cohere_embed_hierarchical_knowledge_base = cohere_embed_hierarchical_future.result()\n",
    "    cohere_embed_semantic_knowledge_base = cohere_embed_semantic_future.result()\n",
    "    cohere_embed_fixed_knowledge_base = cohere_embed_fixed_future.result()\n",
    "    \n",
    "interactive_sleep(30)\n",
    "pp.pprint(f\"Cohere Embed Hierarchical Knowledge Base Id: {cohere_embed_hierarchical_knowledge_base['knowledgeBaseId']}\")\n",
    "pp.pprint(f\"Cohere Embed Semantic Knowledge Base Id: {cohere_embed_semantic_knowledge_base['knowledgeBaseId']}\")\n",
    "pp.pprint(f\"Cohere Embed Fixed Knowledge Base Id: {cohere_embed_fixed_knowledge_base['knowledgeBaseId']}\")"
   ]
  },
  {
   "cell_type": "markdown",
   "metadata": {},
   "source": [
    "### Link Data Sources and Sync\n",
    "\n",
    "Set hierarchical and semantic chunking strategies and sync data to knowledge base. \n",
    "\n",
    "#### Hierarchical Chunking\n",
    "<img src=\"./assets/hierarchical_chunking.png\" width=50% height=20% />\n",
    "\n",
    "\n",
    "#### Semantic Chunking\n",
    "<img src=\"./assets/semantic_chunking.png\" width=50% height=20% />"
   ]
  },
  {
   "cell_type": "code",
   "execution_count": 3,
   "metadata": {},
   "outputs": [
    {
     "name": "stdout",
     "output_type": "stream",
     "text": [
      "Starting syncing job for Knowledge Base ID: AR2RIG9X4T\n",
      "\n",
      "Starting syncing job for Knowledge Base ID: M39VOU2FLD\n",
      "\n",
      "Sync job for Knowledge Base ID: M39VOU2FLD complete\n",
      "\n",
      "Sync job for Knowledge Base ID: AR2RIG9X4T complete\n",
      "\n",
      "Done!.........................\n"
     ]
    }
   ],
   "source": [
    "hierarchicalChunkingStrategyConfiguration = {\n",
    "    \"chunkingStrategy\": \"HIERARCHICAL\", \n",
    "    \"hierarchicalChunkingConfiguration\": {\n",
    "        \"levelConfigurations\": [{\"maxTokens\": 1024}, {\"maxTokens\": 300}], # [{maxTokens: parent chunk tokens}, {maxTokens: child chunk tokens}]\n",
    "        \"overlapTokens\": 60 # the number of chunks to overlap in the same layers\n",
    "    }\n",
    "}\n",
    "\n",
    "semanticChunkingStrategyConfiguration = {\n",
    "    \"chunkingStrategy\": \"SEMANTIC\", \n",
    "    \"semanticChunkingConfiguration\": {\n",
    "        \"breakpointPercentileThreshold\": 75, # the dissimilarity threshold for splitting chunks\n",
    "        \"bufferSize\": 1, # for a given sentence, the number of sentences before or after to add to the embedding\n",
    "        \"maxTokens\": 300 # max tokens a chunk can have\n",
    "    }\n",
    "}\n",
    "\n",
    "def create_data_source(chunkingStrategyConfiguration, knowledgeBaseId):\n",
    "    return create_ds(chunkingStrategyConfiguration, knowledgeBaseId, bucket)\n",
    "\n",
    "with ThreadPoolExecutor(max_workers=2) as executor:\n",
    "    cohere_embed_hierarchical_data_source_future = executor.submit(create_data_source, hierarchicalChunkingStrategyConfiguration, cohere_embed_hierarchical_knowledge_base['knowledgeBaseId'])\n",
    "    cohere_embed_semantic_data_source_future = executor.submit(create_data_source, semanticChunkingStrategyConfiguration, cohere_embed_semantic_knowledge_base['knowledgeBaseId'])\n",
    "\n",
    "    cohere_embed_hierarchical_data_source = cohere_embed_hierarchical_data_source_future.result()\n",
    "    cohere_embed_semantic_data_source = cohere_embed_semantic_data_source_future.result()\n",
    "    \n",
    "interactive_sleep(30) ## we need to wait a little bit after the data sources finish syncing for them to be available\n",
    "print(\"Done!\")"
   ]
  },
  {
   "cell_type": "markdown",
   "metadata": {},
   "source": [
    "### Follow the steps below to set up necessary packages\n",
    "\n",
    "1. Import the necessary libraries for creating `bedrock-runtime` for invoking foundation models and `bedrock-agent-runtime` client for using Retrieve API provided by Knowledge Bases for Amazon Bedrock. \n",
    "2. Import Langchain for: \n",
    "   1. Initializing bedrock model  `anthropic.claude-3-haiku-20240307-v1:0` as our large language model to perform query completions using the RAG pattern. \n",
    "   2. Initializing bedrock model  `anthropic.claude-3-haiku-20240307-v1:0` as our large language model to perform RAG evaluation. \n",
    "3. Create a `AmazonKnowledgeBasesRetriever` object from LangChain which will call the `Retrieve API` provided by Knowledge Bases for Amazon Bedrock which converts user queries into embeddings, searches the knowledge base, and returns the relevant results, giving you more control to build custom workﬂows on top of the semantic search results."
   ]
  },
  {
   "cell_type": "code",
   "execution_count": 4,
   "metadata": {},
   "outputs": [
    {
     "name": "stdout",
     "output_type": "stream",
     "text": [
      "LLM Clients created!!\n",
      "Retrievers created!!\n"
     ]
    }
   ],
   "source": [
    "from langchain.llms.bedrock import Bedrock\n",
    "from langchain.retrievers.bedrock import AmazonKnowledgeBasesRetriever\n",
    "from langchain.chains import RetrievalQA\n",
    "from langchain_aws import BedrockEmbeddings\n",
    "from langchain_aws import ChatBedrock\n",
    "\n",
    "\n",
    "bedrock_config = Config(connect_timeout=120, read_timeout=120, retries={'max_attempts': 10})\n",
    "bedrock_runtime_client = boto3.client('bedrock-runtime', config=bedrock_config)\n",
    "\n",
    "kbs = [cohere_embed_hierarchical_knowledge_base, cohere_embed_semantic_knowledge_base, cohere_embed_fixed_knowledge_base] \n",
    "\n",
    "kwargs = {\n",
    "    \"temperature\": 0\n",
    "}\n",
    "\n",
    "llm_for_text_generation = ChatBedrock(model_id=\"anthropic.claude-3-haiku-20240307-v1:0\", client=bedrock_runtime_client, model_kwargs=kwargs)\n",
    "\n",
    "llm_for_evaluation = ChatBedrock(model_id=\"anthropic.claude-3-haiku-20240307-v1:0\", client=bedrock_runtime_client,model_kwargs=kwargs)\n",
    "\n",
    "bedrock_embeddings = BedrockEmbeddings(model_id=\"cohere.embed-english-v3\",client=bedrock_runtime_client)\n",
    "\n",
    "print(\"LLM Clients created!!\")\n",
    "\n",
    "# Create three retrievers with the knowledge base IDs\n",
    "retrievers = [\n",
    "    AmazonKnowledgeBasesRetriever(\n",
    "        knowledge_base_id=kb['knowledgeBaseId'],\n",
    "        retrieval_config={\"vectorSearchConfiguration\": {\"numberOfResults\": 5}},\n",
    "        # endpoint_url=endpoint_url,\n",
    "        # region_name=\"us-east-1\",\n",
    "        # credentials_profile_name=\"<profile_name>\",\n",
    "    )\n",
    "    for kb in kbs\n",
    "]\n",
    "print(\"Retrievers created!!\")"
   ]
  },
  {
   "cell_type": "markdown",
   "metadata": {},
   "source": [
    "## Preparing the Evaluation Data\n",
    "\n",
    "As RAGAS aims to be a reference-free evaluation framework, the required preparations of the evaluation dataset are minimal. You will need to prepare `question` and `ground_truths` pairs from which you can prepare the remaining information through inference as shown below. If you are not interested in the `context_recall` metric, you don’t need to provide the `ground_truths` information. In this case, all you need to prepare are the `questions`."
   ]
  },
  {
   "cell_type": "code",
   "execution_count": 5,
   "metadata": {},
   "outputs": [
    {
     "name": "stdout",
     "output_type": "stream",
     "text": [
      "Answering questions for kb_id: M39VOU2FLD...\n",
      "Answering questions for kb_id: AR2RIG9X4T...\n",
      "Answering questions for kb_id: EBR1AONSY4...\n",
      "Questions answered and datasets created!!\n"
     ]
    }
   ],
   "source": [
    "from datasets import Dataset\n",
    "\n",
    "questions = [\n",
    "    \"What was the primary reason for the increase in net cash provided by operating activities for Octank Financial in 2021?\",\n",
    "    \"In which year did Octank Financial have the highest net cash used in investing activities, and what was the primary reason for this?\",\n",
    "    \"What was the primary source of cash inflows from financing activities for Octank Financial in 2021?\"\n",
    "]\n",
    "\n",
    "prefix = \"Keep your answers under 2000 characters in length. Only use information you are sure about from the knowledge base. \"\n",
    "questions = [prefix + question for question in questions]\n",
    "\n",
    "ground_truth = [\n",
    "    \"The increase in net cash provided by operating activities was primarily due to an increase in net income and favorable changes in operating assets and liabilities.\",\n",
    "    \"Octank Financial had the highest net cash used in investing activities in 2021, at $360 million, compared to $290 million in 2020 and $240 million in 2019. The primary reason for this was an increase in purchases of property, plant, and equipment and marketable securities.\",\n",
    "    \"The primary source of cash inflows from financing activities for Octank Financial in 2021 was an increase in proceeds from the issuance of common stock and long-term debt.\"\n",
    "]\n",
    "\n",
    "def execute_rag(retriever):\n",
    "    answers = []\n",
    "    contexts = []\n",
    "    kb_id = retriever.knowledge_base_id\n",
    "    qa_chain = RetrievalQA.from_chain_type(\n",
    "        llm=llm_for_text_generation, retriever=retriever, return_source_documents=True\n",
    "    )\n",
    "    print(f\"Answering questions for kb_id: {kb_id}...\")\n",
    "    for query in questions:\n",
    "        response = qa_chain.invoke(query)\n",
    "        answers.append(response[\"result\"])\n",
    "        contexts.append([docs.page_content for docs in response[\"source_documents\"]])\n",
    "    # To dict\n",
    "    data = {\n",
    "        \"question\": questions,\n",
    "        \"answer\": answers,\n",
    "        \"contexts\": contexts,\n",
    "        \"ground_truth\": ground_truth\n",
    "    }\n",
    "    return kb_id, data\n",
    "\n",
    "datasets = {}\n",
    "for retriever in retrievers:\n",
    "    kb_id, data = execute_rag(retriever)\n",
    "    datasets[kb_id] = Dataset.from_dict(data)\n",
    "\n",
    "print(\"Questions answered and datasets created!!\")"
   ]
  },
  {
   "cell_type": "markdown",
   "metadata": {},
   "source": [
    "## Evaluating the RAG application\n",
    "First, import all the metrics you want to use from `ragas.metrics`. Then, you can use the `evaluate()` function and simply pass in the relevant metrics and the prepared dataset."
   ]
  },
  {
   "cell_type": "code",
   "execution_count": 6,
   "metadata": {},
   "outputs": [
    {
     "data": {
      "application/vnd.jupyter.widget-view+json": {
       "model_id": "dcf70f91aa9f4ada9021486ac4b9f0d3",
       "version_major": 2,
       "version_minor": 0
      },
      "text/plain": [
       "Evaluating:   0%|          | 0/12 [00:00<?, ?it/s]"
      ]
     },
     "metadata": {},
     "output_type": "display_data"
    },
    {
     "name": "stderr",
     "output_type": "stream",
     "text": [
      "Exception raised in Job[1]: OutputParserException(Invalid json output: The increase in net cash provided by operating activities for Octank Financial in 2021 was primarily due to an increase in net income and favorable changes in operating assets and liabilities.)\n"
     ]
    },
    {
     "data": {
      "application/vnd.jupyter.widget-view+json": {
       "model_id": "1d6b1e5b76d54c5aa7e0817d2f23932e",
       "version_major": 2,
       "version_minor": 0
      },
      "text/plain": [
       "Evaluating:   0%|          | 0/12 [00:00<?, ?it/s]"
      ]
     },
     "metadata": {},
     "output_type": "display_data"
    },
    {
     "data": {
      "application/vnd.jupyter.widget-view+json": {
       "model_id": "f2722eebf5504cb79659933ea7023607",
       "version_major": 2,
       "version_minor": 0
      },
      "text/plain": [
       "Evaluating:   0%|          | 0/12 [00:00<?, ?it/s]"
      ]
     },
     "metadata": {},
     "output_type": "display_data"
    },
    {
     "name": "stdout",
     "output_type": "stream",
     "text": [
      "Ragas evaluation complete!!\n"
     ]
    }
   ],
   "source": [
    "from ragas import evaluate, RunConfig\n",
    "from ragas.metrics import (\n",
    "    answer_relevancy,\n",
    "    context_precision,\n",
    "    context_entity_recall,\n",
    "    answer_correctness\n",
    ")\n",
    "\n",
    "#specify the metrics here\n",
    "metrics = [\n",
    "        answer_relevancy,\n",
    "        context_precision,\n",
    "        context_entity_recall,\n",
    "        answer_correctness\n",
    "    ]\n",
    "\n",
    "def evaluate_kb(kb, embeddings, datasets, llm_for_evaluation):\n",
    "    kb_id = kb['knowledgeBaseId']\n",
    "    result = evaluate(\n",
    "        dataset=datasets[kb_id],\n",
    "        metrics=metrics,\n",
    "        llm=llm_for_evaluation,\n",
    "        embeddings=embeddings,\n",
    "        run_config=RunConfig(max_workers=2)\n",
    "    )\n",
    "    return kb_id, result.to_pandas()\n",
    "\n",
    "# Sequential execution\n",
    "dfs = {}\n",
    "for i, kb in enumerate(kbs):\n",
    "    kb_id, df = evaluate_kb(kb, bedrock_embeddings, datasets, llm_for_evaluation)\n",
    "    dfs[kb_id] = df\n",
    "\n",
    "print(\"Ragas evaluation complete!!\")"
   ]
  },
  {
   "cell_type": "markdown",
   "metadata": {},
   "source": [
    "Below we will plot the results:"
   ]
  },
  {
   "cell_type": "code",
   "execution_count": 7,
   "metadata": {},
   "outputs": [
    {
     "data": {
      "image/png": "[encoded data removed]",
      "text/plain": [
       "<Figure size 1500x800 with 1 Axes>"
      ]
     },
     "metadata": {},
     "output_type": "display_data"
    }
   ],
   "source": [
    "import pandas as pd\n",
    "import matplotlib.pyplot as plt\n",
    "import numpy as np\n",
    "\n",
    "numeric_cols = ['answer_relevancy', 'context_precision', 'context_entity_recall', 'answer_correctness']\n",
    "\n",
    "# Create a mapping for display names\n",
    "display_names = {\n",
    "    'hierarchical-cohere-embed-english-v3-knowledge-base': 'Hierarchical',\n",
    "    'semantic-cohere-embed-english-v3-knowledge-base': 'Semantic',\n",
    "    'cohere-embed-english-v3-knowledge-base': 'Fixed'\n",
    "}\n",
    "\n",
    "# Calculate the mean of numeric columns for each DataFrame\n",
    "means = []\n",
    "kb_names = []\n",
    "for key, df in dfs.items():\n",
    "    mean_values = df[numeric_cols].mean()\n",
    "    means.append(mean_values)\n",
    "    \n",
    "    # Find the corresponding KB name from the 'kbs' list\n",
    "    kb_name = next((kb['name'] for kb in kbs if kb['knowledgeBaseId'] == key), 'Unknown')\n",
    "    kb_names.append(kb_name)\n",
    "    \n",
    "# Combine the means into a single DataFrame\n",
    "means_df = pd.DataFrame(means, columns=numeric_cols, index=kb_names)\n",
    "\n",
    "# Map the index to display names\n",
    "means_df.index = means_df.index.map(display_names)\n",
    "\n",
    "# First plot (Metrics Block 1)\n",
    "subset1 = means_df.iloc[:, :4]\n",
    "plot_df1 = subset1.T\n",
    "\n",
    "fig1, ax1 = plt.subplots(figsize=(15, 8))\n",
    "plot_df1.plot(kind='bar', ax=ax1, width=0.8)\n",
    "\n",
    "ax1.set_title('Ragas Performance - Retrieval Metrics', fontsize=14)\n",
    "ax1.set_xlabel('Metrics', fontsize=12)\n",
    "ax1.set_ylabel('Average', fontsize=12)\n",
    "plt.xticks(rotation=45, ha='right')\n",
    "ax1.legend(title='Knowledge Base', bbox_to_anchor=(1.05, 1), loc='upper left')\n",
    "plt.tight_layout()\n",
    "plt.show()"
   ]
  }
 ],
 "metadata": {
  "availableInstances": [
   {
    "_defaultOrder": 0,
    "_isFastLaunch": true,
    "category": "General purpose",
    "gpuNum": 0,
    "hideHardwareSpecs": false,
    "memoryGiB": 4,
    "name": "ml.t3.medium",
    "vcpuNum": 2
   },
   {
    "_defaultOrder": 1,
    "_isFastLaunch": false,
    "category": "General purpose",
    "gpuNum": 0,
    "hideHardwareSpecs": false,
    "memoryGiB": 8,
    "name": "ml.t3.large",
    "vcpuNum": 2
   },
   {
    "_defaultOrder": 2,
    "_isFastLaunch": false,
    "category": "General purpose",
    "gpuNum": 0,
    "hideHardwareSpecs": false,
    "memoryGiB": 16,
    "name": "ml.t3.xlarge",
    "vcpuNum": 4
   },
   {
    "_defaultOrder": 3,
    "_isFastLaunch": false,
    "category": "General purpose",
    "gpuNum": 0,
    "hideHardwareSpecs": false,
    "memoryGiB": 32,
    "name": "ml.t3.2xlarge",
    "vcpuNum": 8
   },
   {
    "_defaultOrder": 4,
    "_isFastLaunch": true,
    "category": "General purpose",
    "gpuNum": 0,
    "hideHardwareSpecs": false,
    "memoryGiB": 8,
    "name": "ml.m5.large",
    "vcpuNum": 2
   },
   {
    "_defaultOrder": 5,
    "_isFastLaunch": false,
    "category": "General purpose",
    "gpuNum": 0,
    "hideHardwareSpecs": false,
    "memoryGiB": 16,
    "name": "ml.m5.xlarge",
    "vcpuNum": 4
   },
   {
    "_defaultOrder": 6,
    "_isFastLaunch": false,
    "category": "General purpose",
    "gpuNum": 0,
    "hideHardwareSpecs": false,
    "memoryGiB": 32,
    "name": "ml.m5.2xlarge",
    "vcpuNum": 8
   },
   {
    "_defaultOrder": 7,
    "_isFastLaunch": false,
    "category": "General purpose",
    "gpuNum": 0,
    "hideHardwareSpecs": false,
    "memoryGiB": 64,
    "name": "ml.m5.4xlarge",
    "vcpuNum": 16
   },
   {
    "_defaultOrder": 8,
    "_isFastLaunch": false,
    "category": "General purpose",
    "gpuNum": 0,
    "hideHardwareSpecs": false,
    "memoryGiB": 128,
    "name": "ml.m5.8xlarge",
    "vcpuNum": 32
   },
   {
    "_defaultOrder": 9,
    "_isFastLaunch": false,
    "category": "General purpose",
    "gpuNum": 0,
    "hideHardwareSpecs": false,
    "memoryGiB": 192,
    "name": "ml.m5.12xlarge",
    "vcpuNum": 48
   },
   {
    "_defaultOrder": 10,
    "_isFastLaunch": false,
    "category": "General purpose",
    "gpuNum": 0,
    "hideHardwareSpecs": false,
    "memoryGiB": 256,
    "name": "ml.m5.16xlarge",
    "vcpuNum": 64
   },
   {
    "_defaultOrder": 11,
    "_isFastLaunch": false,
    "category": "General purpose",
    "gpuNum": 0,
    "hideHardwareSpecs": false,
    "memoryGiB": 384,
    "name": "ml.m5.24xlarge",
    "vcpuNum": 96
   },
   {
    "_defaultOrder": 12,
    "_isFastLaunch": false,
    "category": "General purpose",
    "gpuNum": 0,
    "hideHardwareSpecs": false,
    "memoryGiB": 8,
    "name": "ml.m5d.large",
    "vcpuNum": 2
   },
   {
    "_defaultOrder": 13,
    "_isFastLaunch": false,
    "category": "General purpose",
    "gpuNum": 0,
    "hideHardwareSpecs": false,
    "memoryGiB": 16,
    "name": "ml.m5d.xlarge",
    "vcpuNum": 4
   },
   {
    "_defaultOrder": 14,
    "_isFastLaunch": false,
    "category": "General purpose",
    "gpuNum": 0,
    "hideHardwareSpecs": false,
    "memoryGiB": 32,
    "name": "ml.m5d.2xlarge",
    "vcpuNum": 8
   },
   {
    "_defaultOrder": 15,
    "_isFastLaunch": false,
    "category": "General purpose",
    "gpuNum": 0,
    "hideHardwareSpecs": false,
    "memoryGiB": 64,
    "name": "ml.m5d.4xlarge",
    "vcpuNum": 16
   },
   {
    "_defaultOrder": 16,
    "_isFastLaunch": false,
    "category": "General purpose",
    "gpuNum": 0,
    "hideHardwareSpecs": false,
    "memoryGiB": 128,
    "name": "ml.m5d.8xlarge",
    "vcpuNum": 32
   },
   {
    "_defaultOrder": 17,
    "_isFastLaunch": false,
    "category": "General purpose",
    "gpuNum": 0,
    "hideHardwareSpecs": false,
    "memoryGiB": 192,
    "name": "ml.m5d.12xlarge",
    "vcpuNum": 48
   },
   {
    "_defaultOrder": 18,
    "_isFastLaunch": false,
    "category": "General purpose",
    "gpuNum": 0,
    "hideHardwareSpecs": false,
    "memoryGiB": 256,
    "name": "ml.m5d.16xlarge",
    "vcpuNum": 64
   },
   {
    "_defaultOrder": 19,
    "_isFastLaunch": false,
    "category": "General purpose",
    "gpuNum": 0,
    "hideHardwareSpecs": false,
    "memoryGiB": 384,
    "name": "ml.m5d.24xlarge",
    "vcpuNum": 96
   },
   {
    "_defaultOrder": 20,
    "_isFastLaunch": false,
    "category": "General purpose",
    "gpuNum": 0,
    "hideHardwareSpecs": true,
    "memoryGiB": 0,
    "name": "ml.geospatial.interactive",
    "supportedImageNames": [
     "sagemaker-geospatial-v1-0"
    ],
    "vcpuNum": 0
   },
   {
    "_defaultOrder": 21,
    "_isFastLaunch": true,
    "category": "Compute optimized",
    "gpuNum": 0,
    "hideHardwareSpecs": false,
    "memoryGiB": 4,
    "name": "ml.c5.large",
    "vcpuNum": 2
   },
   {
    "_defaultOrder": 22,
    "_isFastLaunch": false,
    "category": "Compute optimized",
    "gpuNum": 0,
    "hideHardwareSpecs": false,
    "memoryGiB": 8,
    "name": "ml.c5.xlarge",
    "vcpuNum": 4
   },
   {
    "_defaultOrder": 23,
    "_isFastLaunch": false,
    "category": "Compute optimized",
    "gpuNum": 0,
    "hideHardwareSpecs": false,
    "memoryGiB": 16,
    "name": "ml.c5.2xlarge",
    "vcpuNum": 8
   },
   {
    "_defaultOrder": 24,
    "_isFastLaunch": false,
    "category": "Compute optimized",
    "gpuNum": 0,
    "hideHardwareSpecs": false,
    "memoryGiB": 32,
    "name": "ml.c5.4xlarge",
    "vcpuNum": 16
   },
   {
    "_defaultOrder": 25,
    "_isFastLaunch": false,
    "category": "Compute optimized",
    "gpuNum": 0,
    "hideHardwareSpecs": false,
    "memoryGiB": 72,
    "name": "ml.c5.9xlarge",
    "vcpuNum": 36
   },
   {
    "_defaultOrder": 26,
    "_isFastLaunch": false,
    "category": "Compute optimized",
    "gpuNum": 0,
    "hideHardwareSpecs": false,
    "memoryGiB": 96,
    "name": "ml.c5.12xlarge",
    "vcpuNum": 48
   },
   {
    "_defaultOrder": 27,
    "_isFastLaunch": false,
    "category": "Compute optimized",
    "gpuNum": 0,
    "hideHardwareSpecs": false,
    "memoryGiB": 144,
    "name": "ml.c5.18xlarge",
    "vcpuNum": 72
   },
   {
    "_defaultOrder": 28,
    "_isFastLaunch": false,
    "category": "Compute optimized",
    "gpuNum": 0,
    "hideHardwareSpecs": false,
    "memoryGiB": 192,
    "name": "ml.c5.24xlarge",
    "vcpuNum": 96
   },
   {
    "_defaultOrder": 29,
    "_isFastLaunch": true,
    "category": "Accelerated computing",
    "gpuNum": 1,
    "hideHardwareSpecs": false,
    "memoryGiB": 16,
    "name": "ml.g4dn.xlarge",
    "vcpuNum": 4
   },
   {
    "_defaultOrder": 30,
    "_isFastLaunch": false,
    "category": "Accelerated computing",
    "gpuNum": 1,
    "hideHardwareSpecs": false,
    "memoryGiB": 32,
    "name": "ml.g4dn.2xlarge",
    "vcpuNum": 8
   },
   {
    "_defaultOrder": 31,
    "_isFastLaunch": false,
    "category": "Accelerated computing",
    "gpuNum": 1,
    "hideHardwareSpecs": false,
    "memoryGiB": 64,
    "name": "ml.g4dn.4xlarge",
    "vcpuNum": 16
   },
   {
    "_defaultOrder": 32,
    "_isFastLaunch": false,
    "category": "Accelerated computing",
    "gpuNum": 1,
    "hideHardwareSpecs": false,
    "memoryGiB": 128,
    "name": "ml.g4dn.8xlarge",
    "vcpuNum": 32
   },
   {
    "_defaultOrder": 33,
    "_isFastLaunch": false,
    "category": "Accelerated computing",
    "gpuNum": 4,
    "hideHardwareSpecs": false,
    "memoryGiB": 192,
    "name": "ml.g4dn.12xlarge",
    "vcpuNum": 48
   },
   {
    "_defaultOrder": 34,
    "_isFastLaunch": false,
    "category": "Accelerated computing",
    "gpuNum": 1,
    "hideHardwareSpecs": false,
    "memoryGiB": 256,
    "name": "ml.g4dn.16xlarge",
    "vcpuNum": 64
   },
   {
    "_defaultOrder": 35,
    "_isFastLaunch": false,
    "category": "Accelerated computing",
    "gpuNum": 1,
    "hideHardwareSpecs": false,
    "memoryGiB": 61,
    "name": "ml.p3.2xlarge",
    "vcpuNum": 8
   },
   {
    "_defaultOrder": 36,
    "_isFastLaunch": false,
    "category": "Accelerated computing",
    "gpuNum": 4,
    "hideHardwareSpecs": false,
    "memoryGiB": 244,
    "name": "ml.p3.8xlarge",
    "vcpuNum": 32
   },
   {
    "_defaultOrder": 37,
    "_isFastLaunch": false,
    "category": "Accelerated computing",
    "gpuNum": 8,
    "hideHardwareSpecs": false,
    "memoryGiB": 488,
    "name": "ml.p3.16xlarge",
    "vcpuNum": 64
   },
   {
    "_defaultOrder": 38,
    "_isFastLaunch": false,
    "category": "Accelerated computing",
    "gpuNum": 8,
    "hideHardwareSpecs": false,
    "memoryGiB": 768,
    "name": "ml.p3dn.24xlarge",
    "vcpuNum": 96
   },
   {
    "_defaultOrder": 39,
    "_isFastLaunch": false,
    "category": "Memory Optimized",
    "gpuNum": 0,
    "hideHardwareSpecs": false,
    "memoryGiB": 16,
    "name": "ml.r5.large",
    "vcpuNum": 2
   },
   {
    "_defaultOrder": 40,
    "_isFastLaunch": false,
    "category": "Memory Optimized",
    "gpuNum": 0,
    "hideHardwareSpecs": false,
    "memoryGiB": 32,
    "name": "ml.r5.xlarge",
    "vcpuNum": 4
   },
   {
    "_defaultOrder": 41,
    "_isFastLaunch": false,
    "category": "Memory Optimized",
    "gpuNum": 0,
    "hideHardwareSpecs": false,
    "memoryGiB": 64,
    "name": "ml.r5.2xlarge",
    "vcpuNum": 8
   },
   {
    "_defaultOrder": 42,
    "_isFastLaunch": false,
    "category": "Memory Optimized",
    "gpuNum": 0,
    "hideHardwareSpecs": false,
    "memoryGiB": 128,
    "name": "ml.r5.4xlarge",
    "vcpuNum": 16
   },
   {
    "_defaultOrder": 43,
    "_isFastLaunch": false,
    "category": "Memory Optimized",
    "gpuNum": 0,
    "hideHardwareSpecs": false,
    "memoryGiB": 256,
    "name": "ml.r5.8xlarge",
    "vcpuNum": 32
   },
   {
    "_defaultOrder": 44,
    "_isFastLaunch": false,
    "category": "Memory Optimized",
    "gpuNum": 0,
    "hideHardwareSpecs": false,
    "memoryGiB": 384,
    "name": "ml.r5.12xlarge",
    "vcpuNum": 48
   },
   {
    "_defaultOrder": 45,
    "_isFastLaunch": false,
    "category": "Memory Optimized",
    "gpuNum": 0,
    "hideHardwareSpecs": false,
    "memoryGiB": 512,
    "name": "ml.r5.16xlarge",
    "vcpuNum": 64
   },
   {
    "_defaultOrder": 46,
    "_isFastLaunch": false,
    "category": "Memory Optimized",
    "gpuNum": 0,
    "hideHardwareSpecs": false,
    "memoryGiB": 768,
    "name": "ml.r5.24xlarge",
    "vcpuNum": 96
   },
   {
    "_defaultOrder": 47,
    "_isFastLaunch": false,
    "category": "Accelerated computing",
    "gpuNum": 1,
    "hideHardwareSpecs": false,
    "memoryGiB": 16,
    "name": "ml.g5.xlarge",
    "vcpuNum": 4
   },
   {
    "_defaultOrder": 48,
    "_isFastLaunch": false,
    "category": "Accelerated computing",
    "gpuNum": 1,
    "hideHardwareSpecs": false,
    "memoryGiB": 32,
    "name": "ml.g5.2xlarge",
    "vcpuNum": 8
   },
   {
    "_defaultOrder": 49,
    "_isFastLaunch": false,
    "category": "Accelerated computing",
    "gpuNum": 1,
    "hideHardwareSpecs": false,
    "memoryGiB": 64,
    "name": "ml.g5.4xlarge",
    "vcpuNum": 16
   },
   {
    "_defaultOrder": 50,
    "_isFastLaunch": false,
    "category": "Accelerated computing",
    "gpuNum": 1,
    "hideHardwareSpecs": false,
    "memoryGiB": 128,
    "name": "ml.g5.8xlarge",
    "vcpuNum": 32
   },
   {
    "_defaultOrder": 51,
    "_isFastLaunch": false,
    "category": "Accelerated computing",
    "gpuNum": 1,
    "hideHardwareSpecs": false,
    "memoryGiB": 256,
    "name": "ml.g5.16xlarge",
    "vcpuNum": 64
   },
   {
    "_defaultOrder": 52,
    "_isFastLaunch": false,
    "category": "Accelerated computing",
    "gpuNum": 4,
    "hideHardwareSpecs": false,
    "memoryGiB": 192,
    "name": "ml.g5.12xlarge",
    "vcpuNum": 48
   },
   {
    "_defaultOrder": 53,
    "_isFastLaunch": false,
    "category": "Accelerated computing",
    "gpuNum": 4,
    "hideHardwareSpecs": false,
    "memoryGiB": 384,
    "name": "ml.g5.24xlarge",
    "vcpuNum": 96
   },
   {
    "_defaultOrder": 54,
    "_isFastLaunch": false,
    "category": "Accelerated computing",
    "gpuNum": 8,
    "hideHardwareSpecs": false,
    "memoryGiB": 768,
    "name": "ml.g5.48xlarge",
    "vcpuNum": 192
   },
   {
    "_defaultOrder": 55,
    "_isFastLaunch": false,
    "category": "Accelerated computing",
    "gpuNum": 8,
    "hideHardwareSpecs": false,
    "memoryGiB": 1152,
    "name": "ml.p4d.24xlarge",
    "vcpuNum": 96
   },
   {
    "_defaultOrder": 56,
    "_isFastLaunch": false,
    "category": "Accelerated computing",
    "gpuNum": 8,
    "hideHardwareSpecs": false,
    "memoryGiB": 1152,
    "name": "ml.p4de.24xlarge",
    "vcpuNum": 96
   },
   {
    "_defaultOrder": 57,
    "_isFastLaunch": false,
    "category": "Accelerated computing",
    "gpuNum": 0,
    "hideHardwareSpecs": false,
    "memoryGiB": 32,
    "name": "ml.trn1.2xlarge",
    "vcpuNum": 8
   },
   {
    "_defaultOrder": 58,
    "_isFastLaunch": false,
    "category": "Accelerated computing",
    "gpuNum": 0,
    "hideHardwareSpecs": false,
    "memoryGiB": 512,
    "name": "ml.trn1.32xlarge",
    "vcpuNum": 128
   },
   {
    "_defaultOrder": 59,
    "_isFastLaunch": false,
    "category": "Accelerated computing",
    "gpuNum": 0,
    "hideHardwareSpecs": false,
    "memoryGiB": 512,
    "name": "ml.trn1n.32xlarge",
    "vcpuNum": 128
   }
  ],
  "instance_type": "ml.t3.medium",
  "kernelspec": {
   "display_name": "Python 3 (ipykernel)",
   "language": "python",
   "name": "python3"
  },
  "language_info": {
   "codemirror_mode": {
    "name": "ipython",
    "version": 3
   },
   "file_extension": ".py",
   "mimetype": "text/x-python",
   "name": "python",
   "nbconvert_exporter": "python",
   "pygments_lexer": "ipython3",
   "version": "3.10.14"
  }
 },
 "nbformat": 4,
 "nbformat_minor": 4
}
