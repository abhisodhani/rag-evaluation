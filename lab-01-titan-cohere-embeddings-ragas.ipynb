{
 "cells": [
  {
   "cell_type": "markdown",
   "metadata": {},
   "source": [
    "# Lab-01: Building and evaluating Q&A applications using Titan and Cohere Embedded Knowledge Bases with Ragas"
   ]
  },
  {
   "cell_type": "markdown",
   "metadata": {},
   "source": [
    "### Context\n",
    "\n",
    "In this notebook, we will dive deep into building Q&A applications using the Retrieve API provide by Knowledge Bases for Amazon Bedrock, along with LangChain and Ragas for evaluating the responses. Here, we will query the knowledge base to get the desired number of document chunks based on similarity search, prompt the query using Anthropic Claude, and then evaluate the responses effectively using evaluation metrics, such as faithfulness, answer_relevancy, context_recall, context_precision, context_entity_recall, answer_similarity, answer_correctness, harmfulness, maliciousness, coherence, correctness and conciseness.\n",
    "\n",
    "### Knowledge Bases for Amazon Bedrock Introduction\n",
    "\n",
    "With knowledge bases, you can securely connect foundation models (FMs) in Amazon Bedrock to your company\n",
    "data for Retrieval Augmented Generation (RAG). Access to additional data helps the model generate more relevant,\n",
    "context-speciﬁc, and accurate responses without continuously retraining the FM. All information retrieved from\n",
    "knowledge bases comes with source attribution to improve transparency and minimize hallucinations. For more information on creating a knowledge base using console, please refer to this [post](!https://docs.aws.amazon.com/bedrock/latest/userguide/knowledge-base.html).\n",
    "\n",
    "### Pattern\n",
    "\n",
    "We can implement the solution using Retrieval Augmented Generation (RAG) pattern. RAG retrieves data from outside the language model (non-parametric) and augments the prompts by adding the relevant retrieved data in context. Here, we are performing RAG effectively on a knowledge base we will create as part of this lab. \n",
    "\n",
    "<!-- ![data_ingestion.png](./images/data_ingestion.png) -->\n",
    "<img src=\"./assets/data_ingestion.png\" width=50% height=20% />\n",
    "\n",
    "\n",
    "#### Notebook Walkthrough\n",
    "\n",
    "\n",
    "\n",
    "For our notebook we will use the `Retrieve API` provided by Knowledge Bases for Amazon Bedrock which converts user queries into\n",
    "embeddings, searches the knowledge base, and returns the relevant results, giving you more control to build custom\n",
    "workﬂows on top of the semantic search results. The output of the `Retrieve API` includes the the `retrieved text chunks`, the `location type` and `URI` of the source data, as well as the relevance `scores` of the retrievals. \n",
    "\n",
    "\n",
    "We will then use the text chunks being generated and augment it with the original prompt and pass it through the `anthropic.claude-3-haiku-20240307-v1:0` model.\n",
    "\n",
    "Finally we will evaluate the generated responses using RAGAS on using metrics such as faithfulness, answer relevancy,and context precision. For evaluation, we will use `anthropic.claude-3-haiku-20240307-v1:0`.\n",
    "### Ask question\n",
    "\n",
    "\n",
    "<!-- ![retrieveapi.png](./images/retrieveAPI.png) -->\n",
    "<img src=\"./assets/retrieveAPI.png\" width=50% height=20% />\n",
    "    \n",
    "\n",
    "### USE CASE:\n",
    "\n",
    "#### Dataset\n",
    "\n",
    "In this example, you will use Octank's financial 10k reports (sythetically generated dataset) as a text corpus to perform Q&A on. This data will be ingested into the knowledge base.\n",
    "\n",
    "### Python 3.10\n",
    "\n",
    "⚠  For this lab we need to run the notebook based on a Python 3.10 runtime. ⚠"
   ]
  },
  {
   "cell_type": "markdown",
   "metadata": {},
   "source": [
    "## Download data to ingest into our knowledge base.\n",
    "We'll use the following data:\n",
    "\n",
    "* example financial statement documents of fake company \"Octank\"\n",
    "\n",
    "### Upload data to S3 Bucket data source"
   ]
  },
  {
   "cell_type": "code",
   "execution_count": null,
   "metadata": {},
   "outputs": [],
   "source": [
    "!python -m pip install --upgrade pip\n"
   ]
  },
  {
   "cell_type": "code",
   "execution_count": null,
   "metadata": {},
   "outputs": [],
   "source": [
    "!pip install certifi"
   ]
  },
  {
   "cell_type": "code",
   "execution_count": null,
   "metadata": {},
   "outputs": [],
   "source": [
    "!pip install opensearch-py"
   ]
  },
  {
   "cell_type": "code",
   "execution_count": 2,
   "metadata": {},
   "outputs": [
    {
     "name": "stdout",
     "output_type": "stream",
     "text": [
      "Found existing installation: pydantic 2.11.2\n",
      "Uninstalling pydantic-2.11.2:\n",
      "  Successfully uninstalled pydantic-2.11.2\n"
     ]
    }
   ],
   "source": [
    "!pip uninstall pydantic -y"
   ]
  },
  {
   "cell_type": "code",
   "execution_count": 3,
   "metadata": {},
   "outputs": [
    {
     "name": "stdout",
     "output_type": "stream",
     "text": [
      "Collecting pydantic==1.7.*\n",
      "  Using cached pydantic-1.7.4-py3-none-any.whl.metadata (85 kB)\n",
      "Using cached pydantic-1.7.4-py3-none-any.whl (107 kB)\n",
      "Installing collected packages: pydantic\n",
      "\u001b[31mERROR: pip's dependency resolver does not currently take into account all the packages that are installed. This behaviour is the source of the following dependency conflicts.\n",
      "jupyter-scheduler 2.7.1 requires pydantic<3,>=1.10, but you have pydantic 1.7.4 which is incompatible.\n",
      "langfuse 2.60.2 requires pydantic<3.0,>=1.10.7, but you have pydantic 1.7.4 which is incompatible.\n",
      "openai 1.70.0 requires pydantic<3,>=1.9.0, but you have pydantic 1.7.4 which is incompatible.\n",
      "ragas 0.2.14 requires pydantic>=2, but you have pydantic 1.7.4 which is incompatible.\n",
      "sagemaker-jupyterlab-extension-common 0.1.21 requires pydantic<3,>=1.10.17, but you have pydantic 1.7.4 which is incompatible.\u001b[0m\u001b[31m\n",
      "\u001b[0mSuccessfully installed pydantic-1.7.4\n"
     ]
    }
   ],
   "source": [
    "!pip install pydantic==1.7.* "
   ]
  },
  {
   "cell_type": "code",
   "execution_count": 1,
   "metadata": {},
   "outputs": [
    {
     "name": "stdout",
     "output_type": "stream",
     "text": [
      "Name: pydantic\n",
      "Version: 1.7.4\n",
      "Summary: Data validation and settings management using python 3.6 type hinting\n",
      "Home-page: https://github.com/samuelcolvin/pydantic\n",
      "Author: Samuel Colvin\n",
      "Author-email: s@muelcolvin.com\n",
      "License: MIT\n",
      "Location: /opt/conda/lib/python3.10/site-packages\n",
      "Requires: \n",
      "Required-by: amazon_sagemaker_jupyter_scheduler, confection, fastapi, gluonts, jupyter_scheduler, langchain, langchain-core, langfuse, langsmith, openai, ragas, sagemaker-jupyterlab-extension-common, spacy, thinc, weasel\n"
     ]
    }
   ],
   "source": [
    "!pip show pydantic"
   ]
  },
  {
   "cell_type": "code",
   "execution_count": 2,
   "metadata": {},
   "outputs": [
    {
     "name": "stdout",
     "output_type": "stream",
     "text": [
      "\u001b[31mERROR: pip's dependency resolver does not currently take into account all the packages that are installed. This behaviour is the source of the following dependency conflicts.\n",
      "gluonts 0.13.7 requires pydantic~=1.7, but you have pydantic 2.11.2 which is incompatible.\u001b[0m\u001b[31m\n",
      "\u001b[0m"
     ]
    }
   ],
   "source": [
    "!pip install ragas -q"
   ]
  },
  {
   "cell_type": "code",
   "execution_count": null,
   "metadata": {},
   "outputs": [],
   "source": [
    "# %load_ext autoreload\n",
    "# %autoreload 2"
   ]
  },
  {
   "cell_type": "code",
   "execution_count": 3,
   "metadata": {
    "tags": []
   },
   "outputs": [
    {
     "name": "stdout",
     "output_type": "stream",
     "text": [
      "Upload Successful!!\n",
      "\n",
      "octank_financial_10K.pdf was successfully uploaded to sagemaker-us-east-1-058264176820/octank_financial_10K.pdf\n"
     ]
    }
   ],
   "source": [
    "import logging\n",
    "logging.getLogger(\"sagemaker.config\").setLevel(logging.WARNING)\n",
    "import sagemaker\n",
    "import boto3\n",
    "import pprint\n",
    "from botocore.client import Config\n",
    "\n",
    "pp = pprint.PrettyPrinter(indent=2)\n",
    "# Specify your bucket to be the default sagemaker bucket\n",
    "sess = sagemaker.Session()\n",
    "bucket = sess.default_bucket() #sagemaker-abcdef\n",
    "filename = 'octank_financial_10K.pdf'\n",
    "\n",
    "# Create an S3 client\n",
    "s3 = boto3.client('s3')\n",
    "\n",
    "# Upload the file\n",
    "s3.upload_file(filename, bucket, filename)\n",
    "print(\"Upload Successful!!\\n\")\n",
    "print(f\"{filename} was successfully uploaded to {bucket}/{filename}\")"
   ]
  },
  {
   "cell_type": "markdown",
   "metadata": {},
   "source": [
    "## Create Knowledge Base\n",
    "\n",
    "We have abstracted much of the knowledge base creation from this lab into the below."
   ]
  },
  {
   "cell_type": "code",
   "execution_count": 4,
   "metadata": {
    "tags": []
   },
   "outputs": [
    {
     "name": "stdout",
     "output_type": "stream",
     "text": [
      "bedrock kb execution role arn:aws:iam::058264176820:role/amazon-sagemaker-base-executionrole\n",
      "bedrock kb execution role arn:aws:iam::058264176820:role/amazon-sagemaker-base-executionrole\n",
      "Amazon Titan Knowledge Base Id: QAMHHNPK7K\n",
      "Cohere Embed Knowledge Base Id: O079GGLKHW\n"
     ]
    }
   ],
   "source": [
    "import json\n",
    "import boto3\n",
    "from utility import interactive_sleep, create_knowledge_base, create_ds\n",
    "from concurrent.futures import ThreadPoolExecutor\n",
    "\n",
    "boto3_session = boto3.session.Session()\n",
    "region_name = boto3_session.region_name\n",
    "\n",
    "def create_amazon_titan_knowledge_base():\n",
    "    return create_knowledge_base(\n",
    "        index_name=\"amazon-titan-embedding-v2\",\n",
    "        collection_name=\"amazon-titan-embedding-v2\",\n",
    "        knowledge_base_name=\"amazon-titan-embedding-v2\",\n",
    "        vector_store_name=\"amazon-titan-embedding-v2\",\n",
    "        access_policy_name=\"amazon-titan-access-policy\",\n",
    "        embedding_model_arn=f\"arn:aws:bedrock:{region_name}::foundation-model/amazon.titan-embed-text-v2:0\"\n",
    "    )\n",
    "\n",
    "def create_cohere_embed_knowledge_base():\n",
    "    return create_knowledge_base(\n",
    "        index_name=\"cohere-embed-english-v3\",\n",
    "        collection_name=\"cohere-embed-english-v3\",\n",
    "        knowledge_base_name=\"cohere-embed-english-v3\",\n",
    "        vector_store_name=\"cohere-embed-english-v3\",\n",
    "        access_policy_name=\"cohere-embed-access-policy\",\n",
    "        embedding_model_arn=f\"arn:aws:bedrock:{region_name}::foundation-model/cohere.embed-english-v3\"\n",
    "    )\n",
    "\n",
    "\n",
    "with ThreadPoolExecutor(max_workers=2) as executor:\n",
    "    amazon_titan_future = executor.submit(create_amazon_titan_knowledge_base)\n",
    "    cohere_embed_future = executor.submit(create_cohere_embed_knowledge_base)\n",
    "    \n",
    "    amazon_titan_knowledge_base = amazon_titan_future.result()\n",
    "    cohere_embed_knowledge_base = cohere_embed_future.result()\n",
    "\n",
    "# interactive_sleep(30)\n",
    "print(f\"Amazon Titan Knowledge Base Id: {amazon_titan_knowledge_base['knowledgeBaseId']}\")\n",
    "print(f\"Cohere Embed Knowledge Base Id: {cohere_embed_knowledge_base['knowledgeBaseId']}\")"
   ]
  },
  {
   "cell_type": "markdown",
   "metadata": {},
   "source": [
    "### Link Data Sources and Sync\n",
    "\n",
    "\n",
    "Determine chunking strategy, based on which KB will split the documents into pieces of size equal to the chunk size mentioned in the chunkingStrategyConfiguration.\n",
    "\n",
    "NOTE: In the current sample, we'll use FIXED_SIZE chunking strategy\n",
    "\n",
    "<img src=\"./assets/fixed_chunking.png\" width=50% height=20% />"
   ]
  },
  {
   "cell_type": "code",
   "execution_count": 5,
   "metadata": {
    "tags": []
   },
   "outputs": [
    {
     "name": "stdout",
     "output_type": "stream",
     "text": [
      "Starting syncing job for Knowledge Base ID: QAMHHNPK7K\n",
      "\n",
      "Starting syncing job for Knowledge Base ID: O079GGLKHW\n",
      "\n",
      "Sync job for Knowledge Base ID: QAMHHNPK7K complete\n",
      "\n",
      "Sync job for Knowledge Base ID: O079GGLKHW complete\n",
      "\n",
      "Done!.........................\n"
     ]
    }
   ],
   "source": [
    "chunkingStrategyConfiguration = {\n",
    "    \"chunkingStrategy\": \"FIXED_SIZE\", \n",
    "    \"fixedSizeChunkingConfiguration\": {\n",
    "        \"maxTokens\": 300,\n",
    "        \"overlapPercentage\": 20\n",
    "    }\n",
    "}\n",
    "\n",
    "def create_data_source(knowledgeBaseId):\n",
    "    return create_ds(chunkingStrategyConfiguration, knowledgeBaseId, bucket)\n",
    "\n",
    "with ThreadPoolExecutor(max_workers=2) as executor:\n",
    "    amazon_titan_data_source_future = executor.submit(create_data_source, amazon_titan_knowledge_base['knowledgeBaseId'])\n",
    "    cohere_embed_data_source_future = executor.submit(create_data_source, cohere_embed_knowledge_base['knowledgeBaseId'])\n",
    "\n",
    "    amazon_titan_data_source = amazon_titan_data_source_future.result()\n",
    "    cohere_embed_data_source = cohere_embed_data_source_future.result()\n",
    "    \n",
    "interactive_sleep(30) ## we need to wait a little bit after the data sources finish syncing for them to be available\n",
    "print(\"Done!\")"
   ]
  },
  {
   "cell_type": "code",
   "execution_count": 6,
   "metadata": {},
   "outputs": [
    {
     "name": "stdout",
     "output_type": "stream",
     "text": [
      "[{'knowledgeBaseId': 'QAMHHNPK7K', 'name': 'amazon-titan-embedding-v2-knowledge-base', 'status': 'ACTIVE', 'updatedAt': datetime.datetime(2025, 4, 7, 1, 28, 37, 692872, tzinfo=tzlocal())}, {'knowledgeBaseId': 'O079GGLKHW', 'name': 'cohere-embed-english-v3-knowledge-base', 'status': 'ACTIVE', 'updatedAt': datetime.datetime(2025, 4, 7, 1, 28, 37, 555153, tzinfo=tzlocal())}]\n"
     ]
    }
   ],
   "source": [
    "kbs = [amazon_titan_knowledge_base, cohere_embed_knowledge_base] \n",
    "print(kbs)"
   ]
  },
  {
   "cell_type": "markdown",
   "metadata": {},
   "source": [
    "### Follow the steps below to set up necessary packages\n",
    "\n",
    "1. Import the necessary libraries for creating `bedrock-runtime` for invoking foundation models and `bedrock-agent-runtime` client for using Retrieve API provided by Knowledge Bases for Amazon Bedrock. \n",
    "2. Import Langchain for: \n",
    "   1. Initializing bedrock model  `anthropic.claude-3-haiku-20240307-v1:0` as our large language model to perform query completions using the RAG pattern. \n",
    "   2. Initializing bedrock model  `anthropic.claude-3-haiku-20240307-v1:0` as our large language model to perform RAG assessment. \n",
    "3. Create a `AmazonKnowledgeBasesRetriever` object from LangChain which will call the `Retrieve API` provided by Knowledge Bases for Amazon Bedrock which converts user queries into embeddings, searches the knowledge base, and returns the relevant results, giving you more control to build custom workﬂows on top of the semantic search results."
   ]
  },
  {
   "cell_type": "code",
   "execution_count": 7,
   "metadata": {
    "tags": []
   },
   "outputs": [
    {
     "name": "stdout",
     "output_type": "stream",
     "text": [
      "LLM Clients created!!\n",
      "Retrievers created!!\n"
     ]
    }
   ],
   "source": [
    "from langchain.llms.bedrock import Bedrock\n",
    "from langchain.retrievers.bedrock import AmazonKnowledgeBasesRetriever\n",
    "from langchain.chains import RetrievalQA\n",
    "from langchain_aws import BedrockEmbeddings\n",
    "from langchain_aws import ChatBedrock\n",
    "\n",
    "\n",
    "bedrock_config = Config(connect_timeout=120, read_timeout=120, retries={'max_attempts': 10})\n",
    "bedrock_runtime_client = boto3.client('bedrock-runtime', config=bedrock_config)\n",
    "\n",
    "\n",
    "kbs = [amazon_titan_knowledge_base, cohere_embed_knowledge_base] \n",
    "\n",
    "kwargs = {\n",
    "    \"temperature\": 0\n",
    "}\n",
    "\n",
    "llm_for_text_generation = ChatBedrock(model_id=\"anthropic.claude-3-haiku-20240307-v1:0\", client=bedrock_runtime_client, model_kwargs=kwargs)\n",
    "\n",
    "llm_for_evaluation = ChatBedrock(model_id=\"anthropic.claude-3-haiku-20240307-v1:0\", client=bedrock_runtime_client, model_kwargs=kwargs)\n",
    "\n",
    "bedrock_embeddings = [ BedrockEmbeddings(model_id=\"amazon.titan-embed-text-v2:0\",client=bedrock_runtime_client), BedrockEmbeddings(model_id=\"cohere.embed-english-v3\",client=bedrock_runtime_client)]\n",
    "\n",
    "print(\"LLM Clients created!!\")\n",
    "\n",
    "# Create two retrievers with the knowledge base IDs\n",
    "retrievers = [\n",
    "    AmazonKnowledgeBasesRetriever(\n",
    "        knowledge_base_id=kb['knowledgeBaseId'],\n",
    "        retrieval_config={\"vectorSearchConfiguration\": {\"numberOfResults\": 5}},\n",
    "        # endpoint_url=endpoint_url,\n",
    "        # region_name=\"us-east-1\",\n",
    "        # credentials_profile_name=\"<profile_name>\",\n",
    "    )\n",
    "    for kb in kbs\n",
    "]\n",
    "print(\"Retrievers created!!\")"
   ]
  },
  {
   "cell_type": "markdown",
   "metadata": {},
   "source": [
    "### Model Invocation and Response Generation using RetrievalQA chain \n",
    "\n",
    "Invoke the model and visualize the response\n",
    "\n",
    "Question = `What was the primary reason for the increase in net cash provided by operating activities for Octank Financial in 2021?\"`\n",
    "\n",
    "Ground truth answer = \n",
    "```\n",
    "According to the information provided, the primary reason for the increase in net cash provided by operating activities for Octank Financial in 2021 was:\n",
    "\n",
    "An increase in net income and favorable changes in operating assets and liabilities.\n",
    "...\n",
    "```"
   ]
  },
  {
   "cell_type": "code",
   "execution_count": 8,
   "metadata": {
    "tags": []
   },
   "outputs": [
    {
     "name": "stdout",
     "output_type": "stream",
     "text": [
      "KB: QAMHHNPK7K \n",
      "\n",
      "According to the information provided, the primary reason for the increase in net cash provided by operating activities for Octank Financial in 2021 was an increase in net income and favorable changes in operating assets and liabilities.\n",
      "\n",
      "The statement says: \"The increase in net cash provided by operating activities was primarily due to an increase in net income and favorable changes in operating assets and liabilities.\"\n",
      "\n",
      "\n",
      "KB: O079GGLKHW \n",
      "\n",
      "According to the information provided, the primary reason for the increase in net cash provided by operating activities for Octank Financial in 2021 was:\n",
      "\n",
      "\"The increase in net cash provided by operating activities was primarily due to an increase in net income and favorable changes in operating assets and liabilities.\"\n",
      "\n",
      "\n"
     ]
    }
   ],
   "source": [
    "query = \"What was the primary reason for the increase in net cash provided by operating activities for Octank Financial in 2021?\"\n",
    "\n",
    "for retriever in retrievers:\n",
    "    qa_chain = RetrievalQA.from_chain_type(\n",
    "    llm=llm_for_text_generation, retriever=retriever, return_source_documents=True\n",
    "    )\n",
    "    response = qa_chain.invoke(query)\n",
    "    print(f\"KB: {retriever.knowledge_base_id} \\n\")\n",
    "    print(f\"{response['result']}\\n\\n\")"
   ]
  },
  {
   "cell_type": "markdown",
   "metadata": {},
   "source": [
    "## Preparing the Evaluation Data\n",
    "\n",
    "As Ragas aims to be a reference-free evaluation framework, the required preparations of the evaluation dataset are minimal. You will need to prepare `question` and `ground_truths` pairs from which you can prepare the remaining information through inference as shown below."
   ]
  },
  {
   "cell_type": "code",
   "execution_count": 9,
   "metadata": {
    "tags": []
   },
   "outputs": [
    {
     "name": "stdout",
     "output_type": "stream",
     "text": [
      "Answering questions for kb_id: QAMHHNPK7K...\n",
      "Answering questions for kb_id: O079GGLKHW...\n",
      "Questions answered and datasets created!!\n"
     ]
    }
   ],
   "source": [
    "from datasets import Dataset\n",
    "\n",
    "questions = [\n",
    "    \"What was the primary reason for the increase in net cash provided by operating activities for Octank Financial in 2021?\",\n",
    "    \"In which year did Octank Financial have the highest net cash used in investing activities, and what was the primary reason for this?\",\n",
    "    \"What was the primary source of cash inflows from financing activities for Octank Financial in 2021?\"\n",
    "]\n",
    "\n",
    "prefix = \"Keep your answers under 2000 characters in length. Only use information you are sure about from the knowledge base. \"\n",
    "questions = [prefix + question for question in questions]\n",
    "\n",
    "ground_truth = [\n",
    "    \"The increase in net cash provided by operating activities was primarily due to an increase in net income and favorable changes in operating assets and liabilities.\",\n",
    "    \"Octank Financial had the highest net cash used in investing activities in 2021, at $360 million, compared to $290 million in 2020 and $240 million in 2019. The primary reason for this was an increase in purchases of property, plant, and equipment and marketable securities.\",\n",
    "    \"The primary source of cash inflows from financing activities for Octank Financial in 2021 was an increase in proceeds from the issuance of common stock and long-term debt.\"\n",
    "]\n",
    "\n",
    "def execute_rag(retriever):\n",
    "    answers = []\n",
    "    contexts = []\n",
    "    kb_id = retriever.knowledge_base_id\n",
    "    qa_chain = RetrievalQA.from_chain_type(\n",
    "        llm=llm_for_text_generation, retriever=retriever, return_source_documents=True\n",
    "    )\n",
    "    print(f\"Answering questions for kb_id: {kb_id}...\")\n",
    "    for query in questions:\n",
    "        response = qa_chain.invoke(query)\n",
    "        answers.append(response[\"result\"])\n",
    "        contexts.append([docs.page_content for docs in response[\"source_documents\"]])\n",
    "    # To dict\n",
    "    data = {\n",
    "        \"question\": questions,\n",
    "        \"answer\": answers,\n",
    "        \"contexts\": contexts,\n",
    "        \"ground_truth\": ground_truth\n",
    "    }\n",
    "    return kb_id, data\n",
    "\n",
    "datasets = {}\n",
    "for retriever in retrievers:\n",
    "    kb_id, data = execute_rag(retriever)\n",
    "    datasets[kb_id] = Dataset.from_dict(data)\n",
    "\n",
    "print(\"Questions answered and datasets created!!\")"
   ]
  },
  {
   "cell_type": "markdown",
   "metadata": {},
   "source": [
    "## Evaluating the RAG application\n",
    "<!-- ![RAGAS_Flow.png](./images/RAGAS_Flow.png) -->\n",
    "<img src=\"./assets/RAGAS_Flow.png\" width=50% height=20% />\n",
    "\n",
    "First, import all the metrics you want to use from `ragas.metrics`. Then, you can use the `evaluate()` function and simply pass in the relevant metrics and the prepared dataset.\n",
    "\n",
    "#### Evaluation\n",
    "Utilize RAGAS for evaluation on:\n",
    "\n",
    "1. **Faithfulness:** This measures the factual consistency of the generated answer against the given context. It is calculated from answer and retrieved context. The answer is scaled to (0,1) range. Higher the better.\n",
    "\n",
    "2. **Answer Relevance:** The evaluation metric, Answer Relevancy, focuses on assessing how pertinent the generated answer is to the given prompt. A lower score is assigned to answers that are incomplete or contain redundant information and higher scores indicate better relevancy. This metric is computed using the question, the context and the answer. Please note, that eventhough in practice the score will range between 0 and 1 most of the time, this is not mathematically guaranteed, due to the nature of the cosine similarity ranging from -1 to 1.\n",
    "\n",
    "3. **Context Precision:** Context Precision is a metric that evaluates whether all of the ground-truth relevant items present in the contexts are ranked higher or not. Ideally all the relevant chunks must appear at the top ranks. This metric is computed using the question, ground_truth and the contexts, with values ranging between 0 and 1, where higher scores indicate better precision.\n",
    "\n",
    "4. **Context Recall:** Context recall measures the extent to which the retrieved context aligns with the annotated answer, treated as the ground truth. It is computed based on the ground truth and the retrieved context, and the values range between 0 and 1, with higher values indicating better performance.\n",
    "    \n",
    "5. **Context entities recall:** This metric gives the measure of recall of the retrieved context, based on the number of entities present in both ground_truths and contexts relative to the number of entities present in the ground_truths alone. Simply put, it is a measure of what fraction of entities are recalled from ground_truths. This metric is useful in fact-based use cases like tourism help desk, historical QA, etc. This metric can help evaluate the retrieval mechanism for entities, based on comparison with entities present in ground_truths, because in cases where entities matter, we need the contexts which cover them.\n",
    "    \n",
    "6. **Answer Semantic Similarity:** The concept of Answer Semantic Similarity pertains to the assessment of the semantic resemblance between the generated answer and the ground truth. This evaluation is based on the ground truth and the answer, with values falling within the range of 0 to 1. A higher score signifies a better alignment between the generated answer and the ground truth.\n",
    "    \n",
    "7. **Answer Correctness:** The assessment of Answer Correctness involves gauging the accuracy of the generated answer when compared to the ground truth. This evaluation relies on the ground truth and the answer, with scores ranging from 0 to 1. A higher score indicates a closer alignment between the generated answer and the ground truth, signifying better correctness. Answer correctness encompasses two critical aspects: semantic similarity between the generated answer and the ground truth, as well as factual similarity. These aspects are combined using a weighted scheme to formulate the answer correctness score. Users also have the option to employ a ‘threshold’ value to round the resulting score to binary, if desired.\n",
    "    \n",
    "8. **Aspect Critique:** This is designed to assess submissions based on predefined aspects such as harmlessness and correctness. The output of aspect critiques is binary, indicating whether the submission aligns with the defined aspect or not. This evaluation is performed using the ‘answer’ as input."
   ]
  },
  {
   "cell_type": "code",
   "execution_count": 10,
   "metadata": {
    "tags": []
   },
   "outputs": [
    {
     "data": {
      "application/vnd.jupyter.widget-view+json": {
       "model_id": "bbd66787efe644a7a3a47b975784fbac",
       "version_major": 2,
       "version_minor": 0
      },
      "text/plain": [
       "Evaluating:   0%|          | 0/18 [00:00<?, ?it/s]"
      ]
     },
     "metadata": {},
     "output_type": "display_data"
    },
    {
     "data": {
      "application/vnd.jupyter.widget-view+json": {
       "model_id": "2cfd66589754423fbcf36fffb6a88f46",
       "version_major": 2,
       "version_minor": 0
      },
      "text/plain": [
       "Evaluating:   0%|          | 0/18 [00:00<?, ?it/s]"
      ]
     },
     "metadata": {},
     "output_type": "display_data"
    },
    {
     "name": "stdout",
     "output_type": "stream",
     "text": [
      "Ragas evaluation complete!!\n"
     ]
    }
   ],
   "source": [
    "from ragas import evaluate, RunConfig\n",
    "from ragas.metrics import (\n",
    "    answer_relevancy,\n",
    "    context_recall,\n",
    "    context_precision,\n",
    "    context_entity_recall,\n",
    "    answer_similarity,\n",
    "    answer_correctness\n",
    ")\n",
    "\n",
    "#specify the metrics here\n",
    "metrics = [\n",
    "        answer_relevancy,\n",
    "        context_precision,\n",
    "        context_recall,\n",
    "        context_entity_recall,\n",
    "        answer_similarity,\n",
    "        answer_correctness\n",
    "    ]\n",
    "\n",
    "def evaluate_kb(kb, embeddings, datasets, llm_for_evaluation):\n",
    "    kb_id = kb['knowledgeBaseId']\n",
    "    result = evaluate(\n",
    "        dataset=datasets[kb_id],\n",
    "        metrics=metrics,\n",
    "        llm=llm_for_evaluation,\n",
    "        embeddings=embeddings,\n",
    "        run_config=RunConfig(max_workers=2)\n",
    "\n",
    "    )\n",
    "    return kb_id, result.to_pandas()\n",
    "\n",
    "dfs = {}\n",
    "for i, kb in enumerate(kbs):\n",
    "    kb_id, df = evaluate_kb(kb, bedrock_embeddings[i], datasets, llm_for_evaluation)\n",
    "    dfs[kb_id] = df\n",
    "\n",
    "print(\"Ragas evaluation complete!!\")\n",
    "# disregard any \"failed to parse output\" errors. Those originate from the Ragas library"
   ]
  },
  {
   "cell_type": "code",
   "execution_count": 12,
   "metadata": {},
   "outputs": [
    {
     "name": "stdout",
     "output_type": "stream",
     "text": [
      "{'QAMHHNPK7K':                                           user_input  \\\n",
      "0  Keep your answers under 2000 characters in len...   \n",
      "1  Keep your answers under 2000 characters in len...   \n",
      "2  Keep your answers under 2000 characters in len...   \n",
      "\n",
      "                                  retrieved_contexts  \\\n",
      "0  [. The statement is divided into three main pa...   \n",
      "1  [. The statement is divided into three main pa...   \n",
      "2  [. The statement is divided into three main pa...   \n",
      "\n",
      "                                            response  \\\n",
      "0  According to the information provided, the pri...   \n",
      "1  According to the information provided:\\n\\nIn 2...   \n",
      "2  According to the information provided, the pri...   \n",
      "\n",
      "                                           reference  answer_relevancy  \\\n",
      "0  The increase in net cash provided by operating...          0.721290   \n",
      "1  Octank Financial had the highest net cash used...          0.543380   \n",
      "2  The primary source of cash inflows from financ...          0.687708   \n",
      "\n",
      "   context_precision  context_recall  context_entity_recall  \\\n",
      "0           0.866667             1.0               0.666667   \n",
      "1           1.000000             1.0               0.363636   \n",
      "2           1.000000             1.0               0.500000   \n",
      "\n",
      "   semantic_similarity  answer_correctness  \n",
      "0             0.607057            0.901764  \n",
      "1             0.947584            0.903563  \n",
      "2             0.917446            0.529362  , 'O079GGLKHW':                                           user_input  \\\n",
      "0  Keep your answers under 2000 characters in len...   \n",
      "1  Keep your answers under 2000 characters in len...   \n",
      "2  Keep your answers under 2000 characters in len...   \n",
      "\n",
      "                                  retrieved_contexts  \\\n",
      "0  [and 2019. The statement is divided into three...   \n",
      "1  [. The statement is divided into three main pa...   \n",
      "2  [. The statement is divided into three main pa...   \n",
      "\n",
      "                                            response  \\\n",
      "0  According to the information provided, the pri...   \n",
      "1  According to the information provided, in 2021...   \n",
      "2  According to the information provided, the pri...   \n",
      "\n",
      "                                           reference  answer_relevancy  \\\n",
      "0  The increase in net cash provided by operating...          0.906013   \n",
      "1  Octank Financial had the highest net cash used...          0.778590   \n",
      "2  The primary source of cash inflows from financ...          0.891981   \n",
      "\n",
      "   context_precision  context_recall  context_entity_recall  \\\n",
      "0                1.0             1.0               0.400000   \n",
      "1                1.0             1.0               0.363636   \n",
      "2                1.0             1.0               0.750000   \n",
      "\n",
      "   semantic_similarity  answer_correctness  \n",
      "0             0.659913            0.593550  \n",
      "1             0.987902            0.996976  \n",
      "2             0.936953            0.609238  }\n"
     ]
    }
   ],
   "source": [
    "print(dfs)"
   ]
  },
  {
   "cell_type": "markdown",
   "metadata": {},
   "source": [
    "Below we will plot the results:"
   ]
  },
  {
   "cell_type": "code",
   "execution_count": 13,
   "metadata": {
    "tags": []
   },
   "outputs": [
    {
     "data": {
      "image/png": "[encoded data removed]",
      "text/plain": [
       "<Figure size 1500x800 with 1 Axes>"
      ]
     },
     "metadata": {},
     "output_type": "display_data"
    }
   ],
   "source": [
    "import pandas as pd\n",
    "import matplotlib.pyplot as plt\n",
    "import numpy as np\n",
    "\n",
    "numeric_cols = ['answer_relevancy', 'context_precision', 'context_recall',\n",
    "                'context_entity_recall',  'answer_correctness']\n",
    "\n",
    "# Create a mapping for display names\n",
    "display_names = {\n",
    "    'amazon-titan-embedding-v2-knowledge-base': 'Amazon Titan Embedding',\n",
    "    'cohere-embed-english-v3-knowledge-base': 'Cohere English Embedding'\n",
    "}\n",
    "\n",
    "# Calculate the mean of numeric columns for each DataFrame\n",
    "means = []\n",
    "kb_names = []\n",
    "for key, df in dfs.items():\n",
    "    mean_values = df[numeric_cols].mean()\n",
    "    means.append(mean_values)\n",
    "    \n",
    "    # Find the corresponding KB name from the 'kbs' list\n",
    "    kb_name = next((kb['name'] for kb in kbs if kb['knowledgeBaseId'] == key), 'Unknown')\n",
    "    kb_names.append(kb_name)\n",
    "\n",
    "# Combine the means into a single DataFrame\n",
    "means_df = pd.DataFrame(means, columns=numeric_cols, index=kb_names)\n",
    "\n",
    "# Map the index to display names\n",
    "means_df.index = means_df.index.map(display_names)\n",
    "\n",
    "subset1 = means_df.iloc[:, :6]\n",
    "plot_df1 = subset1.T\n",
    "\n",
    "fig1, ax1 = plt.subplots(figsize=(15, 8))\n",
    "plot_df1.plot(kind='bar', ax=ax1, width=0.8)\n",
    "\n",
    "ax1.set_title('Ragas Performance - Retrieval Metrics', fontsize=14)\n",
    "ax1.set_xlabel('Metrics', fontsize=12)\n",
    "ax1.set_ylabel('Average', fontsize=12)\n",
    "plt.xticks(rotation=45, ha='right')\n",
    "ax1.legend(title='Knowledge Base', bbox_to_anchor=(1.05, 1), loc='upper left')\n",
    "plt.tight_layout()\n",
    "plt.show()"
   ]
  },
  {
   "cell_type": "markdown",
   "metadata": {},
   "source": [
    "> Note: Please note the scores above gives a relative idea on the performance of your RAG application and should be used with caution and not as standalone scores. Also note, that we have used only 3 question/answer pairs for evaluation, as best practice, you should use enough data to cover different aspects of your document for evaluating model.\n",
    "\n",
    "Based on the scores, you can review other components of your RAG workflow to further optimize the scores, few recommended options are to review your chunking strategy, prompt instructions, adding more numberOfResults for additional context and so on. "
   ]
  }
 ],
 "metadata": {
  "availableInstances": [
   {
    "_defaultOrder": 0,
    "_isFastLaunch": true,
    "category": "General purpose",
    "gpuNum": 0,
    "hideHardwareSpecs": false,
    "memoryGiB": 4,
    "name": "ml.t3.medium",
    "vcpuNum": 2
   },
   {
    "_defaultOrder": 1,
    "_isFastLaunch": false,
    "category": "General purpose",
    "gpuNum": 0,
    "hideHardwareSpecs": false,
    "memoryGiB": 8,
    "name": "ml.t3.large",
    "vcpuNum": 2
   },
   {
    "_defaultOrder": 2,
    "_isFastLaunch": false,
    "category": "General purpose",
    "gpuNum": 0,
    "hideHardwareSpecs": false,
    "memoryGiB": 16,
    "name": "ml.t3.xlarge",
    "vcpuNum": 4
   },
   {
    "_defaultOrder": 3,
    "_isFastLaunch": false,
    "category": "General purpose",
    "gpuNum": 0,
    "hideHardwareSpecs": false,
    "memoryGiB": 32,
    "name": "ml.t3.2xlarge",
    "vcpuNum": 8
   },
   {
    "_defaultOrder": 4,
    "_isFastLaunch": true,
    "category": "General purpose",
    "gpuNum": 0,
    "hideHardwareSpecs": false,
    "memoryGiB": 8,
    "name": "ml.m5.large",
    "vcpuNum": 2
   },
   {
    "_defaultOrder": 5,
    "_isFastLaunch": false,
    "category": "General purpose",
    "gpuNum": 0,
    "hideHardwareSpecs": false,
    "memoryGiB": 16,
    "name": "ml.m5.xlarge",
    "vcpuNum": 4
   },
   {
    "_defaultOrder": 6,
    "_isFastLaunch": false,
    "category": "General purpose",
    "gpuNum": 0,
    "hideHardwareSpecs": false,
    "memoryGiB": 32,
    "name": "ml.m5.2xlarge",
    "vcpuNum": 8
   },
   {
    "_defaultOrder": 7,
    "_isFastLaunch": false,
    "category": "General purpose",
    "gpuNum": 0,
    "hideHardwareSpecs": false,
    "memoryGiB": 64,
    "name": "ml.m5.4xlarge",
    "vcpuNum": 16
   },
   {
    "_defaultOrder": 8,
    "_isFastLaunch": false,
    "category": "General purpose",
    "gpuNum": 0,
    "hideHardwareSpecs": false,
    "memoryGiB": 128,
    "name": "ml.m5.8xlarge",
    "vcpuNum": 32
   },
   {
    "_defaultOrder": 9,
    "_isFastLaunch": false,
    "category": "General purpose",
    "gpuNum": 0,
    "hideHardwareSpecs": false,
    "memoryGiB": 192,
    "name": "ml.m5.12xlarge",
    "vcpuNum": 48
   },
   {
    "_defaultOrder": 10,
    "_isFastLaunch": false,
    "category": "General purpose",
    "gpuNum": 0,
    "hideHardwareSpecs": false,
    "memoryGiB": 256,
    "name": "ml.m5.16xlarge",
    "vcpuNum": 64
   },
   {
    "_defaultOrder": 11,
    "_isFastLaunch": false,
    "category": "General purpose",
    "gpuNum": 0,
    "hideHardwareSpecs": false,
    "memoryGiB": 384,
    "name": "ml.m5.24xlarge",
    "vcpuNum": 96
   },
   {
    "_defaultOrder": 12,
    "_isFastLaunch": false,
    "category": "General purpose",
    "gpuNum": 0,
    "hideHardwareSpecs": false,
    "memoryGiB": 8,
    "name": "ml.m5d.large",
    "vcpuNum": 2
   },
   {
    "_defaultOrder": 13,
    "_isFastLaunch": false,
    "category": "General purpose",
    "gpuNum": 0,
    "hideHardwareSpecs": false,
    "memoryGiB": 16,
    "name": "ml.m5d.xlarge",
    "vcpuNum": 4
   },
   {
    "_defaultOrder": 14,
    "_isFastLaunch": false,
    "category": "General purpose",
    "gpuNum": 0,
    "hideHardwareSpecs": false,
    "memoryGiB": 32,
    "name": "ml.m5d.2xlarge",
    "vcpuNum": 8
   },
   {
    "_defaultOrder": 15,
    "_isFastLaunch": false,
    "category": "General purpose",
    "gpuNum": 0,
    "hideHardwareSpecs": false,
    "memoryGiB": 64,
    "name": "ml.m5d.4xlarge",
    "vcpuNum": 16
   },
   {
    "_defaultOrder": 16,
    "_isFastLaunch": false,
    "category": "General purpose",
    "gpuNum": 0,
    "hideHardwareSpecs": false,
    "memoryGiB": 128,
    "name": "ml.m5d.8xlarge",
    "vcpuNum": 32
   },
   {
    "_defaultOrder": 17,
    "_isFastLaunch": false,
    "category": "General purpose",
    "gpuNum": 0,
    "hideHardwareSpecs": false,
    "memoryGiB": 192,
    "name": "ml.m5d.12xlarge",
    "vcpuNum": 48
   },
   {
    "_defaultOrder": 18,
    "_isFastLaunch": false,
    "category": "General purpose",
    "gpuNum": 0,
    "hideHardwareSpecs": false,
    "memoryGiB": 256,
    "name": "ml.m5d.16xlarge",
    "vcpuNum": 64
   },
   {
    "_defaultOrder": 19,
    "_isFastLaunch": false,
    "category": "General purpose",
    "gpuNum": 0,
    "hideHardwareSpecs": false,
    "memoryGiB": 384,
    "name": "ml.m5d.24xlarge",
    "vcpuNum": 96
   },
   {
    "_defaultOrder": 20,
    "_isFastLaunch": false,
    "category": "General purpose",
    "gpuNum": 0,
    "hideHardwareSpecs": true,
    "memoryGiB": 0,
    "name": "ml.geospatial.interactive",
    "supportedImageNames": [
     "sagemaker-geospatial-v1-0"
    ],
    "vcpuNum": 0
   },
   {
    "_defaultOrder": 21,
    "_isFastLaunch": true,
    "category": "Compute optimized",
    "gpuNum": 0,
    "hideHardwareSpecs": false,
    "memoryGiB": 4,
    "name": "ml.c5.large",
    "vcpuNum": 2
   },
   {
    "_defaultOrder": 22,
    "_isFastLaunch": false,
    "category": "Compute optimized",
    "gpuNum": 0,
    "hideHardwareSpecs": false,
    "memoryGiB": 8,
    "name": "ml.c5.xlarge",
    "vcpuNum": 4
   },
   {
    "_defaultOrder": 23,
    "_isFastLaunch": false,
    "category": "Compute optimized",
    "gpuNum": 0,
    "hideHardwareSpecs": false,
    "memoryGiB": 16,
    "name": "ml.c5.2xlarge",
    "vcpuNum": 8
   },
   {
    "_defaultOrder": 24,
    "_isFastLaunch": false,
    "category": "Compute optimized",
    "gpuNum": 0,
    "hideHardwareSpecs": false,
    "memoryGiB": 32,
    "name": "ml.c5.4xlarge",
    "vcpuNum": 16
   },
   {
    "_defaultOrder": 25,
    "_isFastLaunch": false,
    "category": "Compute optimized",
    "gpuNum": 0,
    "hideHardwareSpecs": false,
    "memoryGiB": 72,
    "name": "ml.c5.9xlarge",
    "vcpuNum": 36
   },
   {
    "_defaultOrder": 26,
    "_isFastLaunch": false,
    "category": "Compute optimized",
    "gpuNum": 0,
    "hideHardwareSpecs": false,
    "memoryGiB": 96,
    "name": "ml.c5.12xlarge",
    "vcpuNum": 48
   },
   {
    "_defaultOrder": 27,
    "_isFastLaunch": false,
    "category": "Compute optimized",
    "gpuNum": 0,
    "hideHardwareSpecs": false,
    "memoryGiB": 144,
    "name": "ml.c5.18xlarge",
    "vcpuNum": 72
   },
   {
    "_defaultOrder": 28,
    "_isFastLaunch": false,
    "category": "Compute optimized",
    "gpuNum": 0,
    "hideHardwareSpecs": false,
    "memoryGiB": 192,
    "name": "ml.c5.24xlarge",
    "vcpuNum": 96
   },
   {
    "_defaultOrder": 29,
    "_isFastLaunch": true,
    "category": "Accelerated computing",
    "gpuNum": 1,
    "hideHardwareSpecs": false,
    "memoryGiB": 16,
    "name": "ml.g4dn.xlarge",
    "vcpuNum": 4
   },
   {
    "_defaultOrder": 30,
    "_isFastLaunch": false,
    "category": "Accelerated computing",
    "gpuNum": 1,
    "hideHardwareSpecs": false,
    "memoryGiB": 32,
    "name": "ml.g4dn.2xlarge",
    "vcpuNum": 8
   },
   {
    "_defaultOrder": 31,
    "_isFastLaunch": false,
    "category": "Accelerated computing",
    "gpuNum": 1,
    "hideHardwareSpecs": false,
    "memoryGiB": 64,
    "name": "ml.g4dn.4xlarge",
    "vcpuNum": 16
   },
   {
    "_defaultOrder": 32,
    "_isFastLaunch": false,
    "category": "Accelerated computing",
    "gpuNum": 1,
    "hideHardwareSpecs": false,
    "memoryGiB": 128,
    "name": "ml.g4dn.8xlarge",
    "vcpuNum": 32
   },
   {
    "_defaultOrder": 33,
    "_isFastLaunch": false,
    "category": "Accelerated computing",
    "gpuNum": 4,
    "hideHardwareSpecs": false,
    "memoryGiB": 192,
    "name": "ml.g4dn.12xlarge",
    "vcpuNum": 48
   },
   {
    "_defaultOrder": 34,
    "_isFastLaunch": false,
    "category": "Accelerated computing",
    "gpuNum": 1,
    "hideHardwareSpecs": false,
    "memoryGiB": 256,
    "name": "ml.g4dn.16xlarge",
    "vcpuNum": 64
   },
   {
    "_defaultOrder": 35,
    "_isFastLaunch": false,
    "category": "Accelerated computing",
    "gpuNum": 1,
    "hideHardwareSpecs": false,
    "memoryGiB": 61,
    "name": "ml.p3.2xlarge",
    "vcpuNum": 8
   },
   {
    "_defaultOrder": 36,
    "_isFastLaunch": false,
    "category": "Accelerated computing",
    "gpuNum": 4,
    "hideHardwareSpecs": false,
    "memoryGiB": 244,
    "name": "ml.p3.8xlarge",
    "vcpuNum": 32
   },
   {
    "_defaultOrder": 37,
    "_isFastLaunch": false,
    "category": "Accelerated computing",
    "gpuNum": 8,
    "hideHardwareSpecs": false,
    "memoryGiB": 488,
    "name": "ml.p3.16xlarge",
    "vcpuNum": 64
   },
   {
    "_defaultOrder": 38,
    "_isFastLaunch": false,
    "category": "Accelerated computing",
    "gpuNum": 8,
    "hideHardwareSpecs": false,
    "memoryGiB": 768,
    "name": "ml.p3dn.24xlarge",
    "vcpuNum": 96
   },
   {
    "_defaultOrder": 39,
    "_isFastLaunch": false,
    "category": "Memory Optimized",
    "gpuNum": 0,
    "hideHardwareSpecs": false,
    "memoryGiB": 16,
    "name": "ml.r5.large",
    "vcpuNum": 2
   },
   {
    "_defaultOrder": 40,
    "_isFastLaunch": false,
    "category": "Memory Optimized",
    "gpuNum": 0,
    "hideHardwareSpecs": false,
    "memoryGiB": 32,
    "name": "ml.r5.xlarge",
    "vcpuNum": 4
   },
   {
    "_defaultOrder": 41,
    "_isFastLaunch": false,
    "category": "Memory Optimized",
    "gpuNum": 0,
    "hideHardwareSpecs": false,
    "memoryGiB": 64,
    "name": "ml.r5.2xlarge",
    "vcpuNum": 8
   },
   {
    "_defaultOrder": 42,
    "_isFastLaunch": false,
    "category": "Memory Optimized",
    "gpuNum": 0,
    "hideHardwareSpecs": false,
    "memoryGiB": 128,
    "name": "ml.r5.4xlarge",
    "vcpuNum": 16
   },
   {
    "_defaultOrder": 43,
    "_isFastLaunch": false,
    "category": "Memory Optimized",
    "gpuNum": 0,
    "hideHardwareSpecs": false,
    "memoryGiB": 256,
    "name": "ml.r5.8xlarge",
    "vcpuNum": 32
   },
   {
    "_defaultOrder": 44,
    "_isFastLaunch": false,
    "category": "Memory Optimized",
    "gpuNum": 0,
    "hideHardwareSpecs": false,
    "memoryGiB": 384,
    "name": "ml.r5.12xlarge",
    "vcpuNum": 48
   },
   {
    "_defaultOrder": 45,
    "_isFastLaunch": false,
    "category": "Memory Optimized",
    "gpuNum": 0,
    "hideHardwareSpecs": false,
    "memoryGiB": 512,
    "name": "ml.r5.16xlarge",
    "vcpuNum": 64
   },
   {
    "_defaultOrder": 46,
    "_isFastLaunch": false,
    "category": "Memory Optimized",
    "gpuNum": 0,
    "hideHardwareSpecs": false,
    "memoryGiB": 768,
    "name": "ml.r5.24xlarge",
    "vcpuNum": 96
   },
   {
    "_defaultOrder": 47,
    "_isFastLaunch": false,
    "category": "Accelerated computing",
    "gpuNum": 1,
    "hideHardwareSpecs": false,
    "memoryGiB": 16,
    "name": "ml.g5.xlarge",
    "vcpuNum": 4
   },
   {
    "_defaultOrder": 48,
    "_isFastLaunch": false,
    "category": "Accelerated computing",
    "gpuNum": 1,
    "hideHardwareSpecs": false,
    "memoryGiB": 32,
    "name": "ml.g5.2xlarge",
    "vcpuNum": 8
   },
   {
    "_defaultOrder": 49,
    "_isFastLaunch": false,
    "category": "Accelerated computing",
    "gpuNum": 1,
    "hideHardwareSpecs": false,
    "memoryGiB": 64,
    "name": "ml.g5.4xlarge",
    "vcpuNum": 16
   },
   {
    "_defaultOrder": 50,
    "_isFastLaunch": false,
    "category": "Accelerated computing",
    "gpuNum": 1,
    "hideHardwareSpecs": false,
    "memoryGiB": 128,
    "name": "ml.g5.8xlarge",
    "vcpuNum": 32
   },
   {
    "_defaultOrder": 51,
    "_isFastLaunch": false,
    "category": "Accelerated computing",
    "gpuNum": 1,
    "hideHardwareSpecs": false,
    "memoryGiB": 256,
    "name": "ml.g5.16xlarge",
    "vcpuNum": 64
   },
   {
    "_defaultOrder": 52,
    "_isFastLaunch": false,
    "category": "Accelerated computing",
    "gpuNum": 4,
    "hideHardwareSpecs": false,
    "memoryGiB": 192,
    "name": "ml.g5.12xlarge",
    "vcpuNum": 48
   },
   {
    "_defaultOrder": 53,
    "_isFastLaunch": false,
    "category": "Accelerated computing",
    "gpuNum": 4,
    "hideHardwareSpecs": false,
    "memoryGiB": 384,
    "name": "ml.g5.24xlarge",
    "vcpuNum": 96
   },
   {
    "_defaultOrder": 54,
    "_isFastLaunch": false,
    "category": "Accelerated computing",
    "gpuNum": 8,
    "hideHardwareSpecs": false,
    "memoryGiB": 768,
    "name": "ml.g5.48xlarge",
    "vcpuNum": 192
   },
   {
    "_defaultOrder": 55,
    "_isFastLaunch": false,
    "category": "Accelerated computing",
    "gpuNum": 8,
    "hideHardwareSpecs": false,
    "memoryGiB": 1152,
    "name": "ml.p4d.24xlarge",
    "vcpuNum": 96
   },
   {
    "_defaultOrder": 56,
    "_isFastLaunch": false,
    "category": "Accelerated computing",
    "gpuNum": 8,
    "hideHardwareSpecs": false,
    "memoryGiB": 1152,
    "name": "ml.p4de.24xlarge",
    "vcpuNum": 96
   },
   {
    "_defaultOrder": 57,
    "_isFastLaunch": false,
    "category": "Accelerated computing",
    "gpuNum": 0,
    "hideHardwareSpecs": false,
    "memoryGiB": 32,
    "name": "ml.trn1.2xlarge",
    "vcpuNum": 8
   },
   {
    "_defaultOrder": 58,
    "_isFastLaunch": false,
    "category": "Accelerated computing",
    "gpuNum": 0,
    "hideHardwareSpecs": false,
    "memoryGiB": 512,
    "name": "ml.trn1.32xlarge",
    "vcpuNum": 128
   },
   {
    "_defaultOrder": 59,
    "_isFastLaunch": false,
    "category": "Accelerated computing",
    "gpuNum": 0,
    "hideHardwareSpecs": false,
    "memoryGiB": 512,
    "name": "ml.trn1n.32xlarge",
    "vcpuNum": 128
   }
  ],
  "instance_type": "ml.t3.medium",
  "kernelspec": {
   "display_name": "Python 3 (ipykernel)",
   "language": "python",
   "name": "python3"
  },
  "language_info": {
   "codemirror_mode": {
    "name": "ipython",
    "version": 3
   },
   "file_extension": ".py",
   "mimetype": "text/x-python",
   "name": "python",
   "nbconvert_exporter": "python",
   "pygments_lexer": "ipython3",
   "version": "3.10.14"
  },
  "lcc_arn": "arn:aws:sagemaker:us-east-1:590183704046:studio-lifecycle-config/rag-pip-install"
 },
 "nbformat": 4,
 "nbformat_minor": 4
}
